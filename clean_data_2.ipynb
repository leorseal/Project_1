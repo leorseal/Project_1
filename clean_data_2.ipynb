{
 "cells": [
  {
   "cell_type": "code",
   "execution_count": null,
   "metadata": {},
   "outputs": [],
   "source": [
    "import pandas as pd\n",
    "import numpy as np\n",
    "workplace_mental_health_data = pd.read_csv(\"survey.csv\")\n",
    "\n",
    "workplace_mental_health_data.head(10)"
   ]
  },
  {
   "cell_type": "code",
   "execution_count": null,
   "metadata": {},
   "outputs": [],
   "source": [
    "# Calculate unique values in 'Age' Column\n",
    "age_column = workplace_mental_health_data['Age'].unique()\n",
    "\n",
    "# Print 'Age' Column\n",
    "print(age_column)"
   ]
  },
  {
   "cell_type": "code",
   "execution_count": null,
   "metadata": {},
   "outputs": [],
   "source": [
    "# List of ages to replace with NaN values\n",
    "ages_to_replace = [-29, 329, 5, 8, 11, -1, 99999999999, 327, -1726]\n",
    "\n",
    "# Replace specified ages with NaN in the 'Age' column of the dataset\n",
    "workplace_mental_health_data.replace(ages_to_replace, np.nan, inplace=True)\n",
    "\n",
    "# Get unique values in the cleaned 'Age' column\n",
    "age_column_clean_unique = workplace_mental_health_data['Age'].unique()\n",
    "\n",
    "# Calculate the counts of each unique age value in the cleaned 'Age' column\n",
    "age_column_clean_counts = workplace_mental_health_data['Age'].value_counts()\n",
    "\n",
    "# Calculate the percentage distribution of age values in the cleaned 'Age' column\n",
    "age_column_clean_percentage = workplace_mental_health_data['Age'].value_counts(normalize=True) * 100\n",
    "\n",
    "# Print unique values, counts, and percentages\n",
    "print(age_column_clean_unique)\n",
    "print(age_column_clean_counts)\n",
    "print(age_column_clean_percentage)\n"
   ]
  },
  {
   "cell_type": "code",
   "execution_count": null,
   "metadata": {},
   "outputs": [],
   "source": [
    "# Create a DataFrame to store the data\n",
    "age_table = pd.DataFrame({\n",
    "    'Age': age_column_clean_counts.index,\n",
    "    'Count': age_column_clean_counts.values,\n",
    "    'Percentage': age_column_clean_percentage.values\n",
    "})\n",
    "\n",
    "# Display the resulting table\n",
    "print(age_table)"
   ]
  },
  {
   "cell_type": "code",
   "execution_count": null,
   "metadata": {},
   "outputs": [],
   "source": [
    "# Renaming values in 'Gender' column\n",
    "gender_cleaning = {\n",
    "    'M':'Male',\n",
    "    'Female':'Female',\n",
    "    'Male':'Male',\n",
    "    'male':'Male',\n",
    "    'female': 'Female',\n",
    "    'm':'Male',\n",
    "    'Male-ish':'Male', \n",
    "    'maile':'Male', \n",
    "    'Trans-female':'Female',\n",
    "    'Cis Female':'Female', \n",
    "    'F':'Female',\n",
    "    'something kinda male?':'Male', \n",
    "    'Cis Male':'Male', \n",
    "    'Woman': 'Female',\n",
    "    'f': 'Female',\n",
    "    'Mal':'Male',\n",
    "    'Male (CIS)':'Male', \n",
    "    'queer/she/they':'Female',\n",
    "    'non-binary':'Non-binary',\n",
    "    'Femake':'Female',\n",
    "    'woman':'Female',\n",
    "    'Make':'Male', \n",
    "    'Nah':'n/a',\n",
    "    'All':'Non-binary',\n",
    "    'Enby':'n/a', \n",
    "    'fluid':'n/a',\n",
    "    'Genderqueer':'Non-binary',\n",
    "    'Female ':'Female', \n",
    "    'Androgyne':'Non-binary',\n",
    "    'Agender':'Non-binary',\n",
    "    'cis-female/femme':'Female', \n",
    "    'Guy (-ish) ^_^':'Male',\n",
    "    'male leaning androgynous':'Male',\n",
    "    'Male ':'Male',\n",
    "    'Man':'Male',\n",
    "    'Trans woman':'Female', \n",
    "    'msle':'Male',\n",
    "    'Neuter':'n/a',\n",
    "    'Female (trans)':'Female', \n",
    "    'queer':'Non-binary',\n",
    "    'Female (cis)':'Female', \n",
    "    'Mail':'Male', \n",
    "    'cis male':'Male',\n",
    "    'A little about you':'n/a',\n",
    "    'Malr':'Male',\n",
    "    'p': 'n/a',\n",
    "    'femail':'Female',\n",
    "    'Cis Man':'Male',\n",
    "    'ostensibly male, unsure what that really means':'Male',\n",
    "   \n",
    "}\n",
    "workplace_mental_health_data['Gender'] = workplace_mental_health_data['Gender'].map(gender_cleaning)\n",
    "\n",
    "# Get unique values in the cleaned 'Gender' column\n",
    "gender_column_unique = workplace_mental_health_data['Gender'].unique()\n",
    "\n",
    "# Calculate the counts of each unique gender value in the cleaned 'Gender' column\n",
    "gender_column_counts = (workplace_mental_health_data['Gender'].value_counts())\n",
    "\n",
    "# Calculate the percentage distribution of age values in the cleaned 'Age' column\n",
    "gender_column_percentage = workplace_mental_health_data['Gender'].value_counts(normalize=True) * 100\n",
    "\n",
    "# Print unique values, counts, and percentages\n",
    "print(gender_column_unique)\n",
    "print(gender_column_counts)\n",
    "print(gender_column_percentage)\n"
   ]
  },
  {
   "cell_type": "code",
   "execution_count": null,
   "metadata": {},
   "outputs": [],
   "source": [
    "# Create a DataFrame to store the data\n",
    "gender_table = pd.DataFrame({\n",
    "    'Gender': gender_counts.index,\n",
    "    'Count': gender_counts.values,\n",
    "    'Percentage': gender_percentages.values\n",
    "})\n",
    "\n",
    "# Display the resulting table\n",
    "print(gender_table)"
   ]
  },
  {
   "cell_type": "code",
   "execution_count": null,
   "metadata": {},
   "outputs": [],
   "source": [
    "# Get the unique values in the 'Country' column\n",
    "country_column_unique = workplace_mental_health_data['Country'].unique()\n",
    "\n",
    "# Calculate the counts for each unique country in the cleaned 'Country' column\n",
    "country_column_counts = workplace_mental_health_data['Country'].value_counts())\n",
    "\n",
    "# Calculate the percentage distribution for each country in the 'Country' column\n",
    "country_column_percentage = workplace_mental_health_data['Country'].value_counts(normalize=True) * 100\n",
    "\n",
    "# Print unique values, counts, and percentages\n",
    "print(country_column_unique)\n",
    "print((country_column_counts)\n",
    "print(country_column_percentage)"
   ]
  },
  {
   "cell_type": "code",
   "execution_count": null,
   "metadata": {},
   "outputs": [],
   "source": [
    "# Create a DataFrame to store the data\n",
    "country_table = pd.DataFrame({\n",
    "    'Country': country_counts.index,\n",
    "    'Count': country_counts.values,\n",
    "    'Percentage': country_percentages.values\n",
    "})\n",
    "\n",
    "# Display the resulting table\n",
    "print(country_table)"
   ]
  },
  {
   "cell_type": "code",
   "execution_count": null,
   "metadata": {},
   "outputs": [],
   "source": [
    "# Get the unique values in the 'state' column\n",
    "state_column_unique = workplace_mental_health_data['state'].unique()\n",
    "\n",
    "# Calculate the counts for each unique state in the 'state' column\n",
    "state_column_counts = workplace_mental_health_data['state'].value_counts()\n",
    "\n",
    "# Calculate the percentage distribution for each state in the 'state' column\n",
    "state_column_percentage = workplace_mental_health_data['state'].value_counts(normalize=True) * 100\n",
    "\n",
    "# Print unique values, counts, and percentages\n",
    "print(state_column)\n",
    "print(state_colun_counts)\n",
    "print(state_column_percentage)"
   ]
  },
  {
   "cell_type": "code",
   "execution_count": null,
   "metadata": {},
   "outputs": [],
   "source": [
    "# Create a DataFrame to store the data\n",
    "state_table = pd.DataFrame({\n",
    "    'State': state_counts.index,\n",
    "    'Count': state_counts.values,\n",
    "    'Percentage': state_percentages.values\n",
    "})\n",
    "\n",
    "# Display the resulting table\n",
    "print(state_table)"
   ]
  },
  {
   "cell_type": "code",
   "execution_count": null,
   "metadata": {},
   "outputs": [],
   "source": [
    "# Get the unique values in the 'self_employed' column\n",
    "self_employed_unique = workplace_mental_health_data['self_employed'].unique()\n",
    "\n",
    "# Calculate the counts for each unique answer in the 'self_employed' column\n",
    "self_employed_counts = workplace_mental_health_data['self_employed'].value_counts()\n",
    "\n",
    "# Calculate the percentage distribution for each unique answer in the 'self_employed' column\n",
    "self_employed_percentage = workplace_mental_health_data['self_employed'].value_counts(normalize=True) * 100\n",
    "\n",
    "# Print unique values, counts, and percentages\n",
    "print(self_employed_unique)\n",
    "print(self_employed_counts)\n",
    "print(self_employed_percentage)"
   ]
  },
  {
   "cell_type": "code",
   "execution_count": null,
   "metadata": {},
   "outputs": [],
   "source": [
    "# Create a DataFrame to store the data\n",
    "self_employed_table = pd.DataFrame({\n",
    "    'self_employed': self_employed_counts.index,\n",
    "    'Count': self_employed_counts.values,\n",
    "    'Percentage': self_employed_percentage.values\n",
    "})\n",
    "\n",
    "# Display the resulting table\n",
    "print(self_employed_table)"
   ]
  },
  {
   "cell_type": "code",
   "execution_count": null,
   "metadata": {},
   "outputs": [],
   "source": [
    "# Get the unique values in the 'family_history' column\n",
    "family_history_unique = workplace_mental_health_data['family_history'].unique()\n",
    "\n",
    "# Calculate the counts for each unique answer in the 'family_history' column\n",
    "family_history_counts = workplace_mental_health_data['family_history'].value_counts()\n",
    "\n",
    "# Calculate the percentage distribution for each unique answer in the 'family_history' column\n",
    "family_history_percentage = workplace_mental_health_data['family_history'].value_counts(normalize=True) * 100\n",
    "\n",
    "# Print unique values, counts, and percentages\n",
    "print(family_history_unique)\n",
    "print(family_history_counts)\n",
    "print(family_history_percentage)\n",
    "\n"
   ]
  },
  {
   "cell_type": "code",
   "execution_count": null,
   "metadata": {},
   "outputs": [],
   "source": [
    "# Create a DataFrame to store the data\n",
    "family_history_table = pd.DataFrame({\n",
    "    'family_history': family_history_counts.index,\n",
    "    'Count': family_history_counts.values,\n",
    "    'Percentage': family_history_percentage.values\n",
    "})\n",
    "\n",
    "# Display the resulting table\n",
    "print(family_history_table)"
   ]
  },
  {
   "cell_type": "code",
   "execution_count": null,
   "metadata": {},
   "outputs": [],
   "source": [
    "# Get the unique answers in the 'treatment' column\n",
    "treatment_unique = workplace_mental_health_data['treatment'].unique()\n",
    "\n",
    "# Calculate the counts for each unique answer in the 'treatment' column\n",
    "treatment_counts = workplace_mental_health_data['treatment'].value_counts()\n",
    "\n",
    "# Calculate the percentage distribution for each unique answer in the 'treatment' column\n",
    "treatment_percentage = workplace_mental_health_data['treatment'].value_counts(normalize=True) * 100\n",
    "\n",
    "# Print unique answers, counts, and percentages\n",
    "print(treatment_unique)\n",
    "print(treatment_counts)\n",
    "print(treatment_percentage)"
   ]
  },
  {
   "cell_type": "code",
   "execution_count": null,
   "metadata": {},
   "outputs": [],
   "source": [
    "# Create a DataFrame to store the data\n",
    "treatment_table = pd.DataFrame({\n",
    "    'treatment': treatment_counts.index,\n",
    "    'Count': treatment_counts.values,\n",
    "    'Percentage': treatment_percentage.values\n",
    "})\n",
    "\n",
    "# Display the resulting table\n",
    "print(treatment_table)"
   ]
  },
  {
   "cell_type": "code",
   "execution_count": null,
   "metadata": {},
   "outputs": [],
   "source": [
    "# Get the unique answers in the 'work_interfere' column\n",
    "work_interfere_unique = workplace_mental_health_data['work_interfere'].unique()\n",
    "\n",
    "# Calculate the counts for each unique answer in the 'work_interfere' column\n",
    "work_interfere_counts = workplace_mental_health_data['work_interfere'].value_counts()\n",
    "\n",
    "# Calculate the percentage distribution for each unique answer in the 'work_interfere' column\n",
    "work_interfere_percentage = workplace_mental_health_data['work_interfere'].value_counts(normalize=True) * 100\n",
    "\n",
    "# Print unique answers, counts, and percentages\n",
    "print(work_interfere_unique)\n",
    "print(work_interfere_counts)\n",
    "print(work_interfere_percentage)"
   ]
  },
  {
   "cell_type": "code",
   "execution_count": null,
   "metadata": {},
   "outputs": [],
   "source": [
    "# Create a DataFrame to store the data\n",
    "work_interfere_table = pd.DataFrame({\n",
    "    'work_interfere': work_interfere_counts.index,\n",
    "    'Count': work_interfere_counts.values,\n",
    "    'Percentage': work_interfere_percentage.values\n",
    "})\n",
    "\n",
    "# Display the resulting table\n",
    "print(work_interfere_table)"
   ]
  },
  {
   "cell_type": "code",
   "execution_count": null,
   "metadata": {},
   "outputs": [],
   "source": [
    "# Get the unique answers in the 'no_employees' column\n",
    "no_employees_unique = workplace_mental_health_data['no_employees'].unique()\n",
    "\n",
    "# Calculate the counts for each unique answer in the 'no_employees' column\n",
    "no_employees_count = workplace_mental_health_data['no_employees'].value_counts()\n",
    "\n",
    "# Calculate the percentage distribution for each unique answer in the 'no_employees' column\n",
    "no_employees_percentage = workplace_mental_health_data['no_employees'].value_counts(normalize=True) * 100\n",
    "\n",
    "# Print unique answers, counts, and percentages\n",
    "print(no_employees_column)\n",
    "print(no_employees_count )\n",
    "print(no_employees_percentage)"
   ]
  },
  {
   "cell_type": "code",
   "execution_count": null,
   "metadata": {},
   "outputs": [],
   "source": [
    "# Create a DataFrame to store the data\n",
    "no_employees_table = pd.DataFrame({\n",
    "    'no_employees': no_employees_counts.index,\n",
    "    'Count': no_employees_counts.values,\n",
    "    'Percentage': no_employees_percentage.values\n",
    "})\n",
    "\n",
    "# Display the resulting table\n",
    "print(no_employees_table)"
   ]
  },
  {
   "cell_type": "code",
   "execution_count": null,
   "metadata": {},
   "outputs": [],
   "source": [
    "# Get the unique answers in the 'remote_work' column\n",
    "remote_work_unique = workplace_mental_health_data['remote_work'].unique()\n",
    "\n",
    "# Calculate the counts for each unique answer in the 'remote_work' column\n",
    "remote_work_counts = workplace_mental_health_data['remote_work'].value_counts()\n",
    "\n",
    "# Calculate the percentage distribution for each unique answer in the 'remote_work' column\n",
    "remote_work_percentage = workplace_mental_health_data['remote_work'].value_counts(normalize=True) * 100\n",
    "\n",
    "# Print unique answers, counts, and percentages\n",
    "print(remote_work_unique)\n",
    "print(remote_work_counts)\n",
    "print(remote_work_percentage)"
   ]
  },
  {
   "cell_type": "code",
   "execution_count": null,
   "metadata": {},
   "outputs": [],
   "source": [
    "# Create a DataFrame to store the data\n",
    "remote_work_table = pd.DataFrame({\n",
    "    'remote_work': remote_work_counts.index,\n",
    "    'Count': remote_work_counts.values,\n",
    "    'Percentage': remote_work_percentage.values\n",
    "})\n",
    "\n",
    "# Display the resulting table\n",
    "print(remote_work_table)"
   ]
  },
  {
   "cell_type": "code",
   "execution_count": null,
   "metadata": {},
   "outputs": [],
   "source": [
    "# Get the unique answers in the 'tech_company' column\n",
    "tech_company_unique = workplace_mental_health_data['tech_company'].unique()\n",
    "\n",
    "# Calculate the counts for each unique answer in the 'tech_company' column\n",
    "tech_company_counts = workplace_mental_health_data['tech_company'].value_counts()\n",
    "\n",
    "# Calculate the percentage distribution for each unique answer in the 'tech_company' column\n",
    "tech_company_percentage = workplace_mental_health_data['tech_company'].value_counts(normalize=True) * 100\n",
    "\n",
    "# Print unique answers, counts, and percentages\n",
    "print(tech_company_unique)\n",
    "print(tech_company_counts)\n",
    "print(tech_company_percentage)"
   ]
  },
  {
   "cell_type": "code",
   "execution_count": null,
   "metadata": {},
   "outputs": [],
   "source": [
    "# Create a DataFrame to store the data\n",
    "tech_company_table = pd.DataFrame({\n",
    "    'tech_company': tech_company_counts.index,\n",
    "    'Count': tech_company_counts.values,\n",
    "    'Percentage': tech_company_percentage.values\n",
    "})\n",
    "\n",
    "# Display the resulting table\n",
    "print(tech_company_table)"
   ]
  },
  {
   "cell_type": "code",
   "execution_count": null,
   "metadata": {},
   "outputs": [],
   "source": [
    "# Get the unique answers in the 'benefits' column\n",
    "benefits_unique = workplace_mental_health_data['benefits'].unique()\n",
    "\n",
    "# Calculate the counts for each unique answer in the 'benefits' column\n",
    "benefits_counts = workplace_mental_health_data['benefits'].value_counts()\n",
    "\n",
    "# Calculate the percentage distribution for each unique answer in the 'benefits' column\n",
    "benefits_percentage = workplace_mental_health_data['benefits'].value_counts(normalize=True) * 100\n",
    "\n",
    "# Print unique answers, counts, and percentages\n",
    "print(benefits_unique)\n",
    "print(benefits_counts)\n",
    "print(benefits_percentage)"
   ]
  },
  {
   "cell_type": "code",
   "execution_count": null,
   "metadata": {},
   "outputs": [],
   "source": [
    "# Create a DataFrame to store the data\n",
    "benefits_table = pd.DataFrame({\n",
    "    'benefits': benefits_counts.index,\n",
    "    'Count': benefits_counts.values,\n",
    "    'Percentage': benefits_percentage.values\n",
    "})\n",
    "\n",
    "# Display the resulting table\n",
    "print(benefits_table)"
   ]
  },
  {
   "cell_type": "code",
   "execution_count": null,
   "metadata": {},
   "outputs": [],
   "source": [
    "\n",
    "# Get the unique answers in the 'care_options' column\n",
    "care_options_unique = workplace_mental_health_data['care_options'].unique()\n",
    "\n",
    "# Calculate the counts for each unique answer in the 'care_options' column\n",
    "care_options_counts = workplace_mental_health_data['care_options'].value_counts()\n",
    "\n",
    "# Calculate the percentage distribution for each unique answer in the 'care_options' column\n",
    "care_options_percentage = workplace_mental_health_data['care_options'].value_counts(normalize=True) * 100\n",
    "\n",
    "# Print unique answers, counts, and percentages\n",
    "print(care_options_unique)\n",
    "print(care_options_counts)\n",
    "print(care_options_percentage)"
   ]
  },
  {
   "cell_type": "code",
   "execution_count": null,
   "metadata": {},
   "outputs": [],
   "source": [
    "# Create a DataFrame to store the data\n",
    "care_options_table = pd.DataFrame({\n",
    "    'care_options': care_options_counts.index,\n",
    "    'Count': care_options_counts.values,\n",
    "    'Percentage': care_options_percentage.values\n",
    "})\n",
    "\n",
    "# Display the resulting table\n",
    "print(care_options_table)"
   ]
  },
  {
   "cell_type": "code",
   "execution_count": null,
   "metadata": {},
   "outputs": [],
   "source": [
    "\n",
    "# Get the unique answers in the 'wellness_programs' column\n",
    "wellness_programs_unique = workplace_mental_health_data['wellness_programs'].unique()\n",
    "\n",
    "# Calculate the counts for each unique answer in the 'wellness_programs' column\n",
    "wellness_programs_counts = workplace_mental_health_data['wellness_programs'].value_counts()\n",
    "\n",
    "# Calculate the percentage distribution for each unique answer in the 'wellness_programs' column\n",
    "wellness_programs_percentage = workplace_mental_health_data['wellness_programs'].value_counts(normalize=True) * 100\n",
    "\n",
    "# Print unique answers, counts, and percentages\n",
    "print(wellness_programs_unique)\n",
    "print(wellness_programs_counts)\n",
    "print(wellness_programs_percentage)"
   ]
  },
  {
   "cell_type": "code",
   "execution_count": null,
   "metadata": {},
   "outputs": [],
   "source": [
    "# Create a DataFrame to store the data\n",
    "wellness_program_table = pd.DataFrame({\n",
    "    'wellness_program': wellness_program_counts.index,\n",
    "    'Count': wellness_program_counts.values,\n",
    "    'Percentage': wellness_program_percentage.values\n",
    "})\n",
    "\n",
    "# Display the resulting table\n",
    "print(wellness_program_table)"
   ]
  },
  {
   "cell_type": "code",
   "execution_count": null,
   "metadata": {},
   "outputs": [],
   "source": [
    "\n",
    "# Get the unique answers in the 'seek_help' column\n",
    "seek_help_unique = workplace_mental_health_data['seek_help'].unique()\n",
    "\n",
    "# Calculate the counts for each unique answer in the 'seek_help' column\n",
    "seek_help_counts = workplace_mental_health_data['seek_help'].value_counts()\n",
    "\n",
    "# Calculate the percentage distribution for each unique answer in the 'seek_help' column\n",
    "seek_help_percentage = workplace_mental_health_data['seek_help'].value_counts(normalize=True) * 100\n",
    "\n",
    "# Print unique answers, counts, and percentages\n",
    "print(seek_help_unique)\n",
    "print(seek_help_counts)\n",
    "print(seek_help_percentage)"
   ]
  },
  {
   "cell_type": "code",
   "execution_count": null,
   "metadata": {},
   "outputs": [],
   "source": [
    "# Create a DataFrame to store the data\n",
    "seek_help_table = pd.DataFrame({\n",
    "    'seek_help': seek_help_counts.index,\n",
    "    'Count': seek_help_counts.values,\n",
    "    'Percentage': seek_help_percentage.values\n",
    "})\n",
    "\n",
    "# Display the resulting table\n",
    "print(seek_help_table)"
   ]
  },
  {
   "cell_type": "code",
   "execution_count": null,
   "metadata": {},
   "outputs": [],
   "source": [
    "\n",
    "# Get the unique answers in the 'anonymity' column\n",
    "anonymity_unique = workplace_mental_health_data['anonymity'].unique()\n",
    "\n",
    "# Calculate the counts for each unique answer in the 'anonymity' column\n",
    "anonymity_counts = workplace_mental_health_data['anonymity'].value_counts()\n",
    "\n",
    "# Calculate the percentage distribution for each unique answer in the 'anonymity' column\n",
    "anonymity_percentage = workplace_mental_health_data['anonymity'].value_counts(normalize=True) * 100\n",
    "\n",
    "# Print unique answers, counts, and percentages\n",
    "print(anonymity_unique)\n",
    "print(anonymity_counts)\n",
    "print(anonymity_percentage)"
   ]
  },
  {
   "cell_type": "code",
   "execution_count": null,
   "metadata": {},
   "outputs": [],
   "source": [
    "# Create a DataFrame to store the data\n",
    "anonymity_table = pd.DataFrame({\n",
    "    'anonymity': anonymity_counts.index,\n",
    "    'Count': anonymity_counts.values,\n",
    "    'Percentage': anonymity_percentage.values\n",
    "})\n",
    "\n",
    "# Display the resulting table\n",
    "print(anonymity_table)"
   ]
  },
  {
   "cell_type": "code",
   "execution_count": null,
   "metadata": {},
   "outputs": [],
   "source": [
    "\n",
    "# Get the unique answers in the 'leave' column\n",
    "leave_unique = workplace_mental_health_data['leave'].unique()\n",
    "\n",
    "# Calculate the counts for each unique answer in the 'leave' column\n",
    "leave_counts = workplace_mental_health_data['leave'].value_counts()\n",
    "\n",
    "# Calculate the percentage distribution for each unique answer in the 'leave' column\n",
    "leave_percentage = workplace_mental_health_data['leave'].value_counts(normalize=True) * 100\n",
    "\n",
    "# Print unique answers, counts, and percentages\n",
    "print(leave_unique)\n",
    "print(leave_counts)\n",
    "print(leave_percentage)\n"
   ]
  },
  {
   "cell_type": "code",
   "execution_count": null,
   "metadata": {},
   "outputs": [],
   "source": [
    "# Create a DataFrame to store the data\n",
    "leave_table = pd.DataFrame({\n",
    "    'leave': leave_counts.index,\n",
    "    'Count': leave_counts.values,\n",
    "    'Percentage': leave_percentage.values\n",
    "})\n",
    "\n",
    "# Display the resulting table\n",
    "print(leave_table)"
   ]
  },
  {
   "cell_type": "code",
   "execution_count": null,
   "metadata": {},
   "outputs": [],
   "source": [
    "# Get the unique answers in the 'mental_health_consequence' column\n",
    "mental_health_consequence_unique = workplace_mental_health_data['mental_health_consequence'].unique()\n",
    "\n",
    "# Calculate the counts for each unique answer in the 'mental_health_consequence' column\n",
    "mental_health_consequence_counts = workplace_mental_health_data['mental_health_consequence'].value_counts()\n",
    "\n",
    "# Calculate the percentage distribution for each unique answer in the 'mental_health_consequence' column\n",
    "mental_health_consequence_percentage = workplace_mental_health_data['mental_health_consequence'].value_counts(normalize=True) * 100\n",
    "\n",
    "# Print unique answers, counts, and percentages\n",
    "print(mental_health_consequence_unique)\n",
    "print(mental_health_consequence_counts)\n",
    "print(mental_health_consequence_percentage)"
   ]
  },
  {
   "cell_type": "code",
   "execution_count": null,
   "metadata": {},
   "outputs": [],
   "source": [
    "# Create a DataFrame to store the data\n",
    "mental_health_consequence_table = pd.DataFrame({\n",
    "    'mental_health_consequence': mental_health_consequence_counts.index,\n",
    "    'Count': mental_health_consequence_counts.values,\n",
    "    'Percentage': mental_health_consequence_percentage.values\n",
    "})\n",
    "\n",
    "# Display the resulting table\n",
    "print(mental_health_consequence_table)"
   ]
  },
  {
   "cell_type": "code",
   "execution_count": null,
   "metadata": {},
   "outputs": [],
   "source": [
    "# Get the unique answers in the 'phys_health_consequence' column\n",
    "phys_health_consequence_unique = workplace_mental_health_data['phys_health_consequence'].unique()\n",
    "\n",
    "# Calculate the counts for each unique answer in the 'phys_health_consequence' column\n",
    "phys_health_consequence_counts = workplace_mental_health_data['phys_health_consequence'].value_counts()\n",
    "\n",
    "# Calculate the percentage distribution for each unique answer in the 'phys_health_consequence' column\n",
    "phys_health_consequence_percentage = workplace_mental_health_data['phys_health_consequence'].value_counts(normalize=True) * 100\n",
    "\n",
    "# Print unique answers, counts, and percentages\n",
    "print(phys_health_consequence_unique)\n",
    "print(phys_health_consequence_counts)\n",
    "print(phys_health_consequence_percentage)"
   ]
  },
  {
   "cell_type": "code",
   "execution_count": null,
   "metadata": {},
   "outputs": [],
   "source": [
    "# Create a DataFrame to store the data\n",
    "phys_health_consequence_table = pd.DataFrame({\n",
    "    'phys_health_consequence': phys_health_consequence_counts.index,\n",
    "    'Count': phys_health_consequence_counts.values,\n",
    "    'Percentage': phys_health_consequence_percentage.values\n",
    "})\n",
    "\n",
    "# Display the resulting table\n",
    "print(phys_health_consequence_table)"
   ]
  },
  {
   "cell_type": "code",
   "execution_count": null,
   "metadata": {},
   "outputs": [],
   "source": [
    "# Get the unique answers in the 'coworkers' column\n",
    "coworkers_unique = workplace_mental_health_data['coworkers'].unique()\n",
    "\n",
    "# Calculate the counts for each unique answer in the 'coworkers' column\n",
    "coworkers_counts = workplace_mental_health_data['coworkers'].value_counts()\n",
    "\n",
    "# Calculate the percentage distribution for each unique answer in the 'coworkers' column\n",
    "coworkers_percentage = workplace_mental_health_data['coworkers'].value_counts(normalize=True) * 100\n",
    "\n",
    "# Print unique answers, counts, and percentages\n",
    "print(coworkers_unique)\n",
    "print(coworkers_counts)\n",
    "print(coworkers_percentage)"
   ]
  },
  {
   "cell_type": "code",
   "execution_count": null,
   "metadata": {},
   "outputs": [],
   "source": [
    "# Create a DataFrame to store the data\n",
    "coworkers_table = pd.DataFrame({\n",
    "    'coworkers': coworkers_counts.index,\n",
    "    'Count': coworkers_counts.values,\n",
    "    'Percentage': coworkers_percentage.values\n",
    "})\n",
    "\n",
    "# Display the resulting table\n",
    "print(coworkers_table)"
   ]
  },
  {
   "cell_type": "code",
   "execution_count": null,
   "metadata": {},
   "outputs": [],
   "source": [
    "# Get the unique answers in the 'supervisor' column\n",
    "supervisor_unique = workplace_mental_health_data['supervisor'].unique()\n",
    "\n",
    "# Calculate the counts for each unique answer in the 'supervisor' column\n",
    "supervisor_counts = workplace_mental_health_data['supervisor'].value_counts()\n",
    "\n",
    "# Calculate the percentage distribution for each unique answer in the 'supervisor' column\n",
    "supervisor_percentage = workplace_mental_health_data['supervisor'].value_counts(normalize=True) * 100\n",
    "\n",
    "# Print unique answers, counts, and percentages\n",
    "print(supervisor_unique)\n",
    "print(supervisor_counts)\n",
    "print(supervisor_percentage)"
   ]
  },
  {
   "cell_type": "code",
   "execution_count": null,
   "metadata": {},
   "outputs": [],
   "source": [
    "# Create a DataFrame to store the data\n",
    "supervisor_table = pd.DataFrame({\n",
    "    'supervisor': supervisor_counts.index,\n",
    "    'Count': supervisor_counts.values,\n",
    "    'Percentage': supervisor_percentage.values\n",
    "})\n",
    "\n",
    "# Display the resulting table\n",
    "print(supervisor_table)"
   ]
  },
  {
   "cell_type": "code",
   "execution_count": null,
   "metadata": {},
   "outputs": [],
   "source": [
    "# Get the unique answers in the 'mental_health_interview' column\n",
    "mental_health_interview_unique = workplace_mental_health_data['mental_health_interview'].unique()\n",
    "\n",
    "# Calculate the counts for each unique answer in the 'mental_health_interview' column\n",
    "mental_health_interview_counts = workplace_mental_health_data['mental_health_interview'].value_counts()\n",
    "\n",
    "# Calculate the percentage distribution for each unique answer in the 'mental_health_interview' column\n",
    "mental_health_interview_percentage = workplace_mental_health_data['mental_health_interview'].value_counts(normalize=True) * 100\n",
    "\n",
    "# Print unique answers, counts, and percentages\n",
    "print(mental_health_interview_unique)\n",
    "print(mental_health_interview_counts)\n",
    "print(mental_health_interview_percentage)\n"
   ]
  },
  {
   "cell_type": "code",
   "execution_count": null,
   "metadata": {},
   "outputs": [],
   "source": [
    "# Create a DataFrame to store the data\n",
    "mental_health_interview_table = pd.DataFrame({\n",
    "    'mental_health_interview': mental_health_interview_counts.index,\n",
    "    'Count': mental_health_interview_counts.values,\n",
    "    'Percentage': mental_health_interview_percentage.values\n",
    "})\n",
    "\n",
    "# Display the resulting table\n",
    "print(mental_health_interview_table)"
   ]
  },
  {
   "cell_type": "code",
   "execution_count": null,
   "metadata": {},
   "outputs": [],
   "source": [
    "# Get the unique answers in the 'phys_health_interview' column\n",
    "phys_health_interview_unique = workplace_mental_health_data['phys_health_interview'].unique()\n",
    "\n",
    "# Calculate the counts for each unique answer in the 'phys_health_interview' column\n",
    "phys_health_interview_counts = workplace_mental_health_data['phys_health_interview'].value_counts()\n",
    "\n",
    "# Calculate the percentage distribution for each unique answer in the 'phys_health_interview' column\n",
    "phys_health_interview_percentage = workplace_mental_health_data['phys_health_interview'].value_counts(normalize=True) * 100\n",
    "\n",
    "# Print unique answers, counts, and percentages\n",
    "print(phys_health_interview_unique)\n",
    "print(phys_health_interview_counts)\n",
    "print(phys_health_interview_percentage)"
   ]
  },
  {
   "cell_type": "code",
   "execution_count": null,
   "metadata": {},
   "outputs": [],
   "source": [
    "# Create a DataFrame to store the data\n",
    "phys_health_interview_table = pd.DataFrame({\n",
    "    'phys_health_interview': phys_health_interview_counts.index,\n",
    "    'Count': phys_health_interview_counts.values,\n",
    "    'Percentage': phys_health_interview_percentages.values\n",
    "})\n",
    "\n",
    "# Display the resulting table\n",
    "print(phys_health_interview_table)"
   ]
  },
  {
   "cell_type": "code",
   "execution_count": null,
   "metadata": {},
   "outputs": [],
   "source": [
    "# Get the unique answers in the 'mental_vs_physical' column\n",
    "mental_vs_physical_unique = workplace_mental_health_data['mental_vs_physical'].unique()\n",
    "\n",
    "# Calculate the counts for each unique answer in the 'mental_vs_physical' column\n",
    "mental_vs_physical_counts = workplace_mental_health_data['mental_vs_physical'].value_counts()\n",
    "\n",
    "# Calculate the percentage distribution for each unique answer in the 'mental_vs_physical' column\n",
    "mental_vs_physical_percentage = workplace_mental_health_data['mental_vs_physical'].value_counts(normalize=True) * 100\n",
    "\n",
    "# Print unique answers, counts, and percentages\n",
    "print(mental_vs_physical_unique)\n",
    "print(mental_vs_physical_counts)\n",
    "print(mental_vs_physical_percentage)"
   ]
  },
  {
   "cell_type": "code",
   "execution_count": null,
   "metadata": {},
   "outputs": [],
   "source": [
    "# Create a DataFrame to store the data\n",
    "menatl_vs_physical_table = pd.DataFrame({\n",
    "    'menatl_vs_physical': menatal_vs_physical_counts.index,\n",
    "    'Count': menatal_vs_physical_counts.values,\n",
    "    'Percentage': menatal_vs_physical_percentage.values\n",
    "})\n",
    "\n",
    "# Display the resulting table\n",
    "print(menatl_vs_physical_table)"
   ]
  },
  {
   "cell_type": "code",
   "execution_count": 14,
   "metadata": {},
   "outputs": [
    {
     "name": "stdout",
     "output_type": "stream",
     "text": [
      "['No' 'Yes']\n",
      "No     1075\n",
      "Yes     184\n",
      "Name: obs_consequence, dtype: int64\n",
      "No     85.385226\n",
      "Yes    14.614774\n",
      "Name: obs_consequence, dtype: float64\n"
     ]
    }
   ],
   "source": [
    "# Get the unique answers in the 'obs_consequence' column\n",
    "obs_consequence_unique = workplace_mental_health_data['obs_consequence'].unique()\n",
    "\n",
    "# Calculate the counts for each unique answer in the 'obs_consequence' column\n",
    "obs_consequence_counts = workplace_mental_health_data['obs_consequence'].value_counts()\n",
    "\n",
    "# Calculate the percentage distribution for each unique answer in the 'obs_consequence' column\n",
    "obs_consequence_percentage = workplace_mental_health_data['obs_consequence'].value_counts(normalize=True) * 100\n",
    "\n",
    "# Print unique answers, counts, and percentages\n",
    "print(obs_consequence_unique)\n",
    "print(obs_consequence_counts)\n",
    "print(obs_consequence_percentage)"
   ]
  },
  {
   "cell_type": "code",
   "execution_count": 15,
   "metadata": {},
   "outputs": [
    {
     "name": "stdout",
     "output_type": "stream",
     "text": [
      "  obs_consequence  Count  Percentage\n",
      "0              No   1075   85.385226\n",
      "1             Yes    184   14.614774\n"
     ]
    }
   ],
   "source": [
    "# Create a DataFrame to store the data\n",
    "obs_consequence_table = pd.DataFrame({\n",
    "    'obs_consequence': obs_consequence_counts.index,\n",
    "    'Count': obs_consequence_counts.values,\n",
    "    'Percentage': obs_consequence_percentage.values\n",
    "})\n",
    "\n",
    "# Display the resulting table\n",
    "print(obs_consequence_table)"
   ]
  },
  {
   "cell_type": "code",
   "execution_count": null,
   "metadata": {},
   "outputs": [],
   "source": [
    "summary_stats = workplace_mental_health_data.groupby('Gender').agg({'Age': ['count', 'mean']})\n",
    "\n",
    "# Rename columns for clarity\n",
    "summary_stats.columns = ['Total Count', 'Mean Age']\n",
    "\n",
    "# Print the summary statistics table\n",
    "print(summary_stats)"
   ]
  },
  {
   "cell_type": "code",
   "execution_count": null,
   "metadata": {},
   "outputs": [],
   "source": []
  },
  {
   "cell_type": "code",
   "execution_count": null,
   "metadata": {},
   "outputs": [],
   "source": []
  },
  {
   "cell_type": "code",
   "execution_count": null,
   "metadata": {},
   "outputs": [],
   "source": []
  },
  {
   "cell_type": "code",
   "execution_count": null,
   "metadata": {},
   "outputs": [],
   "source": []
  },
  {
   "cell_type": "code",
   "execution_count": null,
   "metadata": {},
   "outputs": [],
   "source": [
    "\n"
   ]
  },
  {
   "cell_type": "code",
   "execution_count": null,
   "metadata": {},
   "outputs": [],
   "source": []
  },
  {
   "cell_type": "code",
   "execution_count": null,
   "metadata": {},
   "outputs": [],
   "source": []
  }
 ],
 "metadata": {
  "kernelspec": {
   "display_name": "Python 3",
   "language": "python",
   "name": "python3"
  },
  "language_info": {
   "codemirror_mode": {
    "name": "ipython",
    "version": 3
   },
   "file_extension": ".py",
   "mimetype": "text/x-python",
   "name": "python",
   "nbconvert_exporter": "python",
   "pygments_lexer": "ipython3",
   "version": "3.11.3"
  },
  "vscode": {
   "interpreter": {
    "hash": "29056445512b2b2c7347c484b4b8e126ae64f8d26b6506f41dfc6784227ca601"
   }
  }
 },
 "nbformat": 4,
 "nbformat_minor": 2
}
