{
 "cells": [
  {
   "cell_type": "code",
   "execution_count": null,
   "metadata": {},
   "outputs": [],
   "source": [
    "import pandas as pd\n",
    "import numpy as np\n",
    "workplace_mental_health_data = pd.read_csv(\"survey.csv\")\n",
    "\n",
    "workplace_mental_health_data"
   ]
  },
  {
   "cell_type": "code",
   "execution_count": null,
   "metadata": {},
   "outputs": [],
   "source": [
    "# Output gender Column\n",
    "gender_column = workplace_mental_health_data['Gender'].unique()\n",
    "print(gender_column)"
   ]
  },
  {
   "cell_type": "code",
   "execution_count": null,
   "metadata": {},
   "outputs": [],
   "source": [
    "gender_mapping = {\n",
    "    'Female': ['Female', 'female', 'Trans-female', 'Cis Female', 'F', 'Woman', 'f', 'queer/she/they', 'Femake', 'woman',\n",
    "                 'Female ', 'cis-female/femme', 'Trans woman', 'Female (trans)', 'Female (cis)', 'femail'],\n",
    "    'Male': ['Male', 'M', 'Male', 'male', 'm', 'Male-ish', 'maile', 'something kinda male?', 'Cis Male', 'Mal', 'Male (CIS)',\n",
    "            'Make', 'Guy (-ish) ^_^', 'male leaning androgynous', 'Male ', 'Man', 'msle', 'Mail', 'cis male', 'Malr', \n",
    "            'Cis Man', 'ostensibly male, unsure what that really means'],\n",
    "    'Non-binary': ['non-binary', 'All', 'fluid', 'Genderqueer' 'Androgyne', 'Agender', 'queer'],\n",
    "    'n/a': ['Nah', 'Enby', 'Neuter', 'A little about you', 'p']\n",
    "\n",
    "}\n",
    "# Replace gender variations with standardized values\n",
    "workplace_mental_health_data['Gender'] = workplace_mental_health_data['Gender'].apply(lambda x: next((key for key, values in gender_mapping.items() if x.lower() in values), x))\n",
    "\n",
    "# Print the updated workplace_mental_health_dataFrame\n",
    "workplace_mental_health_data"
   ]
  },
  {
   "cell_type": "code",
   "execution_count": null,
   "metadata": {},
   "outputs": [],
   "source": [
    "# Output country column\n",
    "country_unique_values = workplace_mental_health_data['Country'].unique()\n",
    "print(country_unique_values)\n"
   ]
  },
  {
   "cell_type": "code",
   "execution_count": null,
   "metadata": {},
   "outputs": [],
   "source": [
    "# country count\n",
    "country_count = workplace_mental_health_data[\"Country\"].nunique()\n",
    "country_count"
   ]
  },
  {
   "cell_type": "code",
   "execution_count": null,
   "metadata": {},
   "outputs": [],
   "source": [
    "# Output state column\n",
    "state_unique_values = workplace_mental_health_data['state'].unique()\n",
    "print(state_unique_values)"
   ]
  },
  {
   "cell_type": "code",
   "execution_count": null,
   "metadata": {},
   "outputs": [],
   "source": [
    "# Output self_employed column\n",
    "self_employed_column = workplace_mental_health_data['self_employed'].unique()\n",
    "print(self_employed_column)"
   ]
  },
  {
   "cell_type": "code",
   "execution_count": null,
   "metadata": {},
   "outputs": [],
   "source": [
    "# Output family_history column\n",
    "family_history_column = workplace_mental_health_data['family_history'].unique()\n",
    "print(family_history_column)"
   ]
  },
  {
   "cell_type": "code",
   "execution_count": null,
   "metadata": {},
   "outputs": [],
   "source": [
    "# Output treatment column\n",
    "treatment_column = workplace_mental_health_data['treatment'].unique()\n",
    "print(treatment_column)"
   ]
  },
  {
   "cell_type": "code",
   "execution_count": null,
   "metadata": {},
   "outputs": [],
   "source": [
    "# Output work_interfere column\n",
    "work_interfere_column = workplace_mental_health_data['work_interfere'].unique()\n",
    "print(work_interfere_column)"
   ]
  },
  {
   "cell_type": "code",
   "execution_count": null,
   "metadata": {},
   "outputs": [],
   "source": [
    "# Output no_employees column\n",
    "no_employees_column = workplace_mental_health_data['no_employees'].unique()\n",
    "print(no_employees_column)"
   ]
  },
  {
   "cell_type": "code",
   "execution_count": null,
   "metadata": {},
   "outputs": [],
   "source": [
    "# Output remote_work column\n",
    "remote_work_column = workplace_mental_health_data['remote_work'].unique()\n",
    "print(remote_work_column)"
   ]
  },
  {
   "cell_type": "code",
   "execution_count": null,
   "metadata": {},
   "outputs": [],
   "source": [
    "# Output tech_company column\n",
    "tech_company_column = workplace_mental_health_data['tech_company'].unique()\n",
    "print(tech_company_column)"
   ]
  },
  {
   "cell_type": "code",
   "execution_count": null,
   "metadata": {},
   "outputs": [],
   "source": [
    "# Output benefits column\n",
    "benefits_column = workplace_mental_health_data['benefits'].unique()\n",
    "print(benefits_column)"
   ]
  },
  {
   "cell_type": "code",
   "execution_count": null,
   "metadata": {},
   "outputs": [],
   "source": [
    "# Output care_options column\n",
    "care_options_column = workplace_mental_health_data['care_options'].unique()\n",
    "print(care_options_column)"
   ]
  },
  {
   "cell_type": "code",
   "execution_count": null,
   "metadata": {},
   "outputs": [],
   "source": [
    "# Output wellness_program column\n",
    "wellness_programs_column = workplace_mental_health_data['wellness_program'].unique()\n",
    "print(wellness_programs_column)"
   ]
  },
  {
   "cell_type": "code",
   "execution_count": null,
   "metadata": {},
   "outputs": [],
   "source": [
    "# Output seek_help column\n",
    "seek_help_column = workplace_mental_health_data['seek_help'].unique()\n",
    "print(seek_help_column)"
   ]
  },
  {
   "cell_type": "code",
   "execution_count": null,
   "metadata": {},
   "outputs": [],
   "source": [
    "# Output anonymity column\n",
    "anonymity_column = workplace_mental_health_data['anonymity'].unique()\n",
    "print(anonymity_column)"
   ]
  },
  {
   "cell_type": "code",
   "execution_count": null,
   "metadata": {},
   "outputs": [],
   "source": [
    "# Output leave column\n",
    "leave_column = workplace_mental_health_data['leave'].unique()\n",
    "print(leave_column)"
   ]
  },
  {
   "cell_type": "code",
   "execution_count": null,
   "metadata": {},
   "outputs": [],
   "source": [
    "# Output mental_health_consequence column\n",
    "mental_health_consequences_column = workplace_mental_health_data['mental_health_consequence'].unique()\n",
    "print(mental_health_consequences_column)"
   ]
  },
  {
   "cell_type": "code",
   "execution_count": null,
   "metadata": {},
   "outputs": [],
   "source": [
    "# Output phys_health_consequence column\n",
    "phys_health_consequence_column = workplace_mental_health_data['phys_health_consequence'].unique()\n",
    "print(phys_health_consequence_column)"
   ]
  },
  {
   "cell_type": "code",
   "execution_count": null,
   "metadata": {},
   "outputs": [],
   "source": [
    "# Output coworkers column\n",
    "coworkers_column = workplace_mental_health_data['coworkers'].unique()\n",
    "print(coworkers_column)"
   ]
  },
  {
   "cell_type": "code",
   "execution_count": null,
   "metadata": {},
   "outputs": [],
   "source": [
    "# Output supervisor column\n",
    "supervisor_column = workplace_mental_health_data['supervisor'].unique()\n",
    "print(supervisor_column)\n"
   ]
  },
  {
   "cell_type": "code",
   "execution_count": null,
   "metadata": {},
   "outputs": [],
   "source": [
    "# Output mental_health_interview column\n",
    "mental_health_interview_column = workplace_mental_health_data['mental_health_interview'].unique()\n",
    "print(mental_health_interview_column)"
   ]
  },
  {
   "cell_type": "code",
   "execution_count": null,
   "metadata": {},
   "outputs": [],
   "source": [
    "# Output phys_health_interview column\n",
    "phys_health_interview_column= workplace_mental_health_data['phys_health_interview'].unique()\n",
    "print(phys_health_interview_column)"
   ]
  },
  {
   "cell_type": "code",
   "execution_count": null,
   "metadata": {},
   "outputs": [],
   "source": [
    "# Output mental_vs_physical column\n",
    "mental_vs_physical_column = workplace_mental_health_data['mental_vs_physical'].unique()\n",
    "print(mental_vs_physical_column)"
   ]
  },
  {
   "cell_type": "code",
   "execution_count": null,
   "metadata": {},
   "outputs": [],
   "source": [
    "# Output obs_consequence column\n",
    "obs_consequence_column = workplace_mental_health_data['obs_consequence'].unique()\n",
    "print(obs_consequence_column)"
   ]
  },
  {
   "cell_type": "code",
   "execution_count": null,
   "metadata": {},
   "outputs": [],
   "source": [
    "# Summary statistics table of mean, median, variance, standard deviation, and SEM of the tumor volume for each regimen\n",
    "# Use groupby and summary statistical methods to calculate the following properties of each Gender: \n",
    "# mean, median, variance, standard deviation, and SEM of the tumor volume. \n",
    "\n",
    "\n",
    "# Assemble the resulting series into a single summary DataFrame.\n",
    "summary_table\n"
   ]
  },
  {
   "cell_type": "code",
   "execution_count": null,
   "metadata": {},
   "outputs": [],
   "source": [
    "# git pull orgin main\n",
    "# git checkout other_branch\n",
    "# git branch project_one\n",
    "#"
   ]
  }
 ],
 "metadata": {
  "kernelspec": {
   "display_name": "Python 3",
   "language": "python",
   "name": "python3"
  },
  "language_info": {
   "codemirror_mode": {
    "name": "ipython",
    "version": 3
   },
   "file_extension": ".py",
   "mimetype": "text/x-python",
   "name": "python",
   "nbconvert_exporter": "python",
   "pygments_lexer": "ipython3",
   "version": "3.11.3"
  },
  "vscode": {
   "interpreter": {
    "hash": "29056445512b2b2c7347c484b4b8e126ae64f8d26b6506f41dfc6784227ca601"
   }
  }
 },
 "nbformat": 4,
 "nbformat_minor": 2
}
