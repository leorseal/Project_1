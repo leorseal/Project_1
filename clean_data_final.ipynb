{
 "cells": [
  {
   "cell_type": "code",
   "execution_count": 1,
   "metadata": {},
   "outputs": [
    {
     "data": {
      "text/html": [
       "<div>\n",
       "<style scoped>\n",
       "    .dataframe tbody tr th:only-of-type {\n",
       "        vertical-align: middle;\n",
       "    }\n",
       "\n",
       "    .dataframe tbody tr th {\n",
       "        vertical-align: top;\n",
       "    }\n",
       "\n",
       "    .dataframe thead th {\n",
       "        text-align: right;\n",
       "    }\n",
       "</style>\n",
       "<table border=\"1\" class=\"dataframe\">\n",
       "  <thead>\n",
       "    <tr style=\"text-align: right;\">\n",
       "      <th></th>\n",
       "      <th>Timestamp</th>\n",
       "      <th>Age</th>\n",
       "      <th>Gender</th>\n",
       "      <th>Country</th>\n",
       "      <th>state</th>\n",
       "      <th>self_employed</th>\n",
       "      <th>family_history</th>\n",
       "      <th>treatment</th>\n",
       "      <th>work_interfere</th>\n",
       "      <th>no_employees</th>\n",
       "      <th>...</th>\n",
       "      <th>leave</th>\n",
       "      <th>mental_health_consequence</th>\n",
       "      <th>phys_health_consequence</th>\n",
       "      <th>coworkers</th>\n",
       "      <th>supervisor</th>\n",
       "      <th>mental_health_interview</th>\n",
       "      <th>phys_health_interview</th>\n",
       "      <th>mental_vs_physical</th>\n",
       "      <th>obs_consequence</th>\n",
       "      <th>comments</th>\n",
       "    </tr>\n",
       "  </thead>\n",
       "  <tbody>\n",
       "    <tr>\n",
       "      <th>0</th>\n",
       "      <td>2014-08-27 11:29:31</td>\n",
       "      <td>37</td>\n",
       "      <td>Female</td>\n",
       "      <td>United States</td>\n",
       "      <td>IL</td>\n",
       "      <td>NaN</td>\n",
       "      <td>No</td>\n",
       "      <td>Yes</td>\n",
       "      <td>Often</td>\n",
       "      <td>6-25</td>\n",
       "      <td>...</td>\n",
       "      <td>Somewhat easy</td>\n",
       "      <td>No</td>\n",
       "      <td>No</td>\n",
       "      <td>Some of them</td>\n",
       "      <td>Yes</td>\n",
       "      <td>No</td>\n",
       "      <td>Maybe</td>\n",
       "      <td>Yes</td>\n",
       "      <td>No</td>\n",
       "      <td>NaN</td>\n",
       "    </tr>\n",
       "    <tr>\n",
       "      <th>1</th>\n",
       "      <td>2014-08-27 11:29:37</td>\n",
       "      <td>44</td>\n",
       "      <td>M</td>\n",
       "      <td>United States</td>\n",
       "      <td>IN</td>\n",
       "      <td>NaN</td>\n",
       "      <td>No</td>\n",
       "      <td>No</td>\n",
       "      <td>Rarely</td>\n",
       "      <td>More than 1000</td>\n",
       "      <td>...</td>\n",
       "      <td>Don't know</td>\n",
       "      <td>Maybe</td>\n",
       "      <td>No</td>\n",
       "      <td>No</td>\n",
       "      <td>No</td>\n",
       "      <td>No</td>\n",
       "      <td>No</td>\n",
       "      <td>Don't know</td>\n",
       "      <td>No</td>\n",
       "      <td>NaN</td>\n",
       "    </tr>\n",
       "    <tr>\n",
       "      <th>2</th>\n",
       "      <td>2014-08-27 11:29:44</td>\n",
       "      <td>32</td>\n",
       "      <td>Male</td>\n",
       "      <td>Canada</td>\n",
       "      <td>NaN</td>\n",
       "      <td>NaN</td>\n",
       "      <td>No</td>\n",
       "      <td>No</td>\n",
       "      <td>Rarely</td>\n",
       "      <td>6-25</td>\n",
       "      <td>...</td>\n",
       "      <td>Somewhat difficult</td>\n",
       "      <td>No</td>\n",
       "      <td>No</td>\n",
       "      <td>Yes</td>\n",
       "      <td>Yes</td>\n",
       "      <td>Yes</td>\n",
       "      <td>Yes</td>\n",
       "      <td>No</td>\n",
       "      <td>No</td>\n",
       "      <td>NaN</td>\n",
       "    </tr>\n",
       "    <tr>\n",
       "      <th>3</th>\n",
       "      <td>2014-08-27 11:29:46</td>\n",
       "      <td>31</td>\n",
       "      <td>Male</td>\n",
       "      <td>United Kingdom</td>\n",
       "      <td>NaN</td>\n",
       "      <td>NaN</td>\n",
       "      <td>Yes</td>\n",
       "      <td>Yes</td>\n",
       "      <td>Often</td>\n",
       "      <td>26-100</td>\n",
       "      <td>...</td>\n",
       "      <td>Somewhat difficult</td>\n",
       "      <td>Yes</td>\n",
       "      <td>Yes</td>\n",
       "      <td>Some of them</td>\n",
       "      <td>No</td>\n",
       "      <td>Maybe</td>\n",
       "      <td>Maybe</td>\n",
       "      <td>No</td>\n",
       "      <td>Yes</td>\n",
       "      <td>NaN</td>\n",
       "    </tr>\n",
       "    <tr>\n",
       "      <th>4</th>\n",
       "      <td>2014-08-27 11:30:22</td>\n",
       "      <td>31</td>\n",
       "      <td>Male</td>\n",
       "      <td>United States</td>\n",
       "      <td>TX</td>\n",
       "      <td>NaN</td>\n",
       "      <td>No</td>\n",
       "      <td>No</td>\n",
       "      <td>Never</td>\n",
       "      <td>100-500</td>\n",
       "      <td>...</td>\n",
       "      <td>Don't know</td>\n",
       "      <td>No</td>\n",
       "      <td>No</td>\n",
       "      <td>Some of them</td>\n",
       "      <td>Yes</td>\n",
       "      <td>Yes</td>\n",
       "      <td>Yes</td>\n",
       "      <td>Don't know</td>\n",
       "      <td>No</td>\n",
       "      <td>NaN</td>\n",
       "    </tr>\n",
       "    <tr>\n",
       "      <th>5</th>\n",
       "      <td>2014-08-27 11:31:22</td>\n",
       "      <td>33</td>\n",
       "      <td>Male</td>\n",
       "      <td>United States</td>\n",
       "      <td>TN</td>\n",
       "      <td>NaN</td>\n",
       "      <td>Yes</td>\n",
       "      <td>No</td>\n",
       "      <td>Sometimes</td>\n",
       "      <td>6-25</td>\n",
       "      <td>...</td>\n",
       "      <td>Don't know</td>\n",
       "      <td>No</td>\n",
       "      <td>No</td>\n",
       "      <td>Yes</td>\n",
       "      <td>Yes</td>\n",
       "      <td>No</td>\n",
       "      <td>Maybe</td>\n",
       "      <td>Don't know</td>\n",
       "      <td>No</td>\n",
       "      <td>NaN</td>\n",
       "    </tr>\n",
       "    <tr>\n",
       "      <th>6</th>\n",
       "      <td>2014-08-27 11:31:50</td>\n",
       "      <td>35</td>\n",
       "      <td>Female</td>\n",
       "      <td>United States</td>\n",
       "      <td>MI</td>\n",
       "      <td>NaN</td>\n",
       "      <td>Yes</td>\n",
       "      <td>Yes</td>\n",
       "      <td>Sometimes</td>\n",
       "      <td>1-5</td>\n",
       "      <td>...</td>\n",
       "      <td>Somewhat difficult</td>\n",
       "      <td>Maybe</td>\n",
       "      <td>Maybe</td>\n",
       "      <td>Some of them</td>\n",
       "      <td>No</td>\n",
       "      <td>No</td>\n",
       "      <td>No</td>\n",
       "      <td>Don't know</td>\n",
       "      <td>No</td>\n",
       "      <td>NaN</td>\n",
       "    </tr>\n",
       "    <tr>\n",
       "      <th>7</th>\n",
       "      <td>2014-08-27 11:32:05</td>\n",
       "      <td>39</td>\n",
       "      <td>M</td>\n",
       "      <td>Canada</td>\n",
       "      <td>NaN</td>\n",
       "      <td>NaN</td>\n",
       "      <td>No</td>\n",
       "      <td>No</td>\n",
       "      <td>Never</td>\n",
       "      <td>1-5</td>\n",
       "      <td>...</td>\n",
       "      <td>Don't know</td>\n",
       "      <td>No</td>\n",
       "      <td>No</td>\n",
       "      <td>No</td>\n",
       "      <td>No</td>\n",
       "      <td>No</td>\n",
       "      <td>No</td>\n",
       "      <td>No</td>\n",
       "      <td>No</td>\n",
       "      <td>NaN</td>\n",
       "    </tr>\n",
       "    <tr>\n",
       "      <th>8</th>\n",
       "      <td>2014-08-27 11:32:39</td>\n",
       "      <td>42</td>\n",
       "      <td>Female</td>\n",
       "      <td>United States</td>\n",
       "      <td>IL</td>\n",
       "      <td>NaN</td>\n",
       "      <td>Yes</td>\n",
       "      <td>Yes</td>\n",
       "      <td>Sometimes</td>\n",
       "      <td>100-500</td>\n",
       "      <td>...</td>\n",
       "      <td>Very difficult</td>\n",
       "      <td>Maybe</td>\n",
       "      <td>No</td>\n",
       "      <td>Yes</td>\n",
       "      <td>Yes</td>\n",
       "      <td>No</td>\n",
       "      <td>Maybe</td>\n",
       "      <td>No</td>\n",
       "      <td>No</td>\n",
       "      <td>NaN</td>\n",
       "    </tr>\n",
       "    <tr>\n",
       "      <th>9</th>\n",
       "      <td>2014-08-27 11:32:43</td>\n",
       "      <td>23</td>\n",
       "      <td>Male</td>\n",
       "      <td>Canada</td>\n",
       "      <td>NaN</td>\n",
       "      <td>NaN</td>\n",
       "      <td>No</td>\n",
       "      <td>No</td>\n",
       "      <td>Never</td>\n",
       "      <td>26-100</td>\n",
       "      <td>...</td>\n",
       "      <td>Don't know</td>\n",
       "      <td>No</td>\n",
       "      <td>No</td>\n",
       "      <td>Yes</td>\n",
       "      <td>Yes</td>\n",
       "      <td>Maybe</td>\n",
       "      <td>Maybe</td>\n",
       "      <td>Yes</td>\n",
       "      <td>No</td>\n",
       "      <td>NaN</td>\n",
       "    </tr>\n",
       "  </tbody>\n",
       "</table>\n",
       "<p>10 rows × 27 columns</p>\n",
       "</div>"
      ],
      "text/plain": [
       "             Timestamp  Age  Gender         Country state self_employed  \\\n",
       "0  2014-08-27 11:29:31   37  Female   United States    IL           NaN   \n",
       "1  2014-08-27 11:29:37   44       M   United States    IN           NaN   \n",
       "2  2014-08-27 11:29:44   32    Male          Canada   NaN           NaN   \n",
       "3  2014-08-27 11:29:46   31    Male  United Kingdom   NaN           NaN   \n",
       "4  2014-08-27 11:30:22   31    Male   United States    TX           NaN   \n",
       "5  2014-08-27 11:31:22   33    Male   United States    TN           NaN   \n",
       "6  2014-08-27 11:31:50   35  Female   United States    MI           NaN   \n",
       "7  2014-08-27 11:32:05   39       M          Canada   NaN           NaN   \n",
       "8  2014-08-27 11:32:39   42  Female   United States    IL           NaN   \n",
       "9  2014-08-27 11:32:43   23    Male          Canada   NaN           NaN   \n",
       "\n",
       "  family_history treatment work_interfere    no_employees  ...  \\\n",
       "0             No       Yes          Often            6-25  ...   \n",
       "1             No        No         Rarely  More than 1000  ...   \n",
       "2             No        No         Rarely            6-25  ...   \n",
       "3            Yes       Yes          Often          26-100  ...   \n",
       "4             No        No          Never         100-500  ...   \n",
       "5            Yes        No      Sometimes            6-25  ...   \n",
       "6            Yes       Yes      Sometimes             1-5  ...   \n",
       "7             No        No          Never             1-5  ...   \n",
       "8            Yes       Yes      Sometimes         100-500  ...   \n",
       "9             No        No          Never          26-100  ...   \n",
       "\n",
       "                leave mental_health_consequence phys_health_consequence  \\\n",
       "0       Somewhat easy                        No                      No   \n",
       "1          Don't know                     Maybe                      No   \n",
       "2  Somewhat difficult                        No                      No   \n",
       "3  Somewhat difficult                       Yes                     Yes   \n",
       "4          Don't know                        No                      No   \n",
       "5          Don't know                        No                      No   \n",
       "6  Somewhat difficult                     Maybe                   Maybe   \n",
       "7          Don't know                        No                      No   \n",
       "8      Very difficult                     Maybe                      No   \n",
       "9          Don't know                        No                      No   \n",
       "\n",
       "      coworkers supervisor mental_health_interview phys_health_interview  \\\n",
       "0  Some of them        Yes                      No                 Maybe   \n",
       "1            No         No                      No                    No   \n",
       "2           Yes        Yes                     Yes                   Yes   \n",
       "3  Some of them         No                   Maybe                 Maybe   \n",
       "4  Some of them        Yes                     Yes                   Yes   \n",
       "5           Yes        Yes                      No                 Maybe   \n",
       "6  Some of them         No                      No                    No   \n",
       "7            No         No                      No                    No   \n",
       "8           Yes        Yes                      No                 Maybe   \n",
       "9           Yes        Yes                   Maybe                 Maybe   \n",
       "\n",
       "  mental_vs_physical obs_consequence comments  \n",
       "0                Yes              No      NaN  \n",
       "1         Don't know              No      NaN  \n",
       "2                 No              No      NaN  \n",
       "3                 No             Yes      NaN  \n",
       "4         Don't know              No      NaN  \n",
       "5         Don't know              No      NaN  \n",
       "6         Don't know              No      NaN  \n",
       "7                 No              No      NaN  \n",
       "8                 No              No      NaN  \n",
       "9                Yes              No      NaN  \n",
       "\n",
       "[10 rows x 27 columns]"
      ]
     },
     "execution_count": 1,
     "metadata": {},
     "output_type": "execute_result"
    }
   ],
   "source": [
    "import pandas as pd\n",
    "import numpy as np\n",
    "workplace_mental_health_data = pd.read_csv(\"survey.csv\")\n",
    "\n",
    "workplace_mental_health_data.head(10)"
   ]
  },
  {
   "cell_type": "code",
   "execution_count": 2,
   "metadata": {},
   "outputs": [
    {
     "name": "stdout",
     "output_type": "stream",
     "text": [
      "[         37          44          32          31          33          35\n",
      "          39          42          23          29          36          27\n",
      "          46          41          34          30          40          38\n",
      "          50          24          18          28          26          22\n",
      "          19          25          45          21         -29          43\n",
      "          56          60          54         329          55 99999999999\n",
      "          48          20          57          58          47          62\n",
      "          51          65          49       -1726           5          53\n",
      "          61           8          11          -1          72]\n"
     ]
    }
   ],
   "source": [
    "# Calculate unique values in 'Age' Column\n",
    "age_column = workplace_mental_health_data['Age'].unique()\n",
    "\n",
    "# Print 'Age' Column\n",
    "print(age_column)"
   ]
  },
  {
   "cell_type": "code",
   "execution_count": 3,
   "metadata": {},
   "outputs": [
    {
     "name": "stdout",
     "output_type": "stream",
     "text": [
      "[37. 44. 32. 31. 33. 35. 39. 42. 23. 29. 36. 27. 46. 41. 34. 30. 40. 38.\n",
      " 50. 24. 18. 28. 26. 22. 19. 25. 45. 21. nan 43. 56. 60. 54. 55. 48. 20.\n",
      " 57. 58. 47. 62. 51. 65. 49. 53. 61. 72.]\n",
      "29.0    85\n",
      "32.0    82\n",
      "26.0    75\n",
      "27.0    71\n",
      "33.0    70\n",
      "28.0    68\n",
      "31.0    67\n",
      "34.0    65\n",
      "30.0    63\n",
      "25.0    61\n",
      "35.0    55\n",
      "23.0    51\n",
      "24.0    46\n",
      "37.0    43\n",
      "38.0    39\n",
      "36.0    37\n",
      "39.0    33\n",
      "40.0    33\n",
      "43.0    28\n",
      "41.0    21\n",
      "22.0    21\n",
      "42.0    20\n",
      "21.0    16\n",
      "45.0    12\n",
      "46.0    12\n",
      "44.0    11\n",
      "19.0     9\n",
      "18.0     7\n",
      "48.0     6\n",
      "50.0     6\n",
      "20.0     6\n",
      "51.0     5\n",
      "49.0     4\n",
      "56.0     4\n",
      "55.0     3\n",
      "57.0     3\n",
      "54.0     3\n",
      "47.0     2\n",
      "60.0     2\n",
      "58.0     1\n",
      "62.0     1\n",
      "65.0     1\n",
      "53.0     1\n",
      "61.0     1\n",
      "72.0     1\n",
      "Name: Age, dtype: int64\n",
      "29.0    6.794564\n",
      "32.0    6.554756\n",
      "26.0    5.995204\n",
      "27.0    5.675460\n",
      "33.0    5.595524\n",
      "28.0    5.435651\n",
      "31.0    5.355715\n",
      "34.0    5.195843\n",
      "30.0    5.035971\n",
      "25.0    4.876099\n",
      "35.0    4.396483\n",
      "23.0    4.076739\n",
      "24.0    3.677058\n",
      "37.0    3.437250\n",
      "38.0    3.117506\n",
      "36.0    2.957634\n",
      "39.0    2.637890\n",
      "40.0    2.637890\n",
      "43.0    2.238209\n",
      "41.0    1.678657\n",
      "22.0    1.678657\n",
      "42.0    1.598721\n",
      "21.0    1.278977\n",
      "45.0    0.959233\n",
      "46.0    0.959233\n",
      "44.0    0.879297\n",
      "19.0    0.719424\n",
      "18.0    0.559552\n",
      "48.0    0.479616\n",
      "50.0    0.479616\n",
      "20.0    0.479616\n",
      "51.0    0.399680\n",
      "49.0    0.319744\n",
      "56.0    0.319744\n",
      "55.0    0.239808\n",
      "57.0    0.239808\n",
      "54.0    0.239808\n",
      "47.0    0.159872\n",
      "60.0    0.159872\n",
      "58.0    0.079936\n",
      "62.0    0.079936\n",
      "65.0    0.079936\n",
      "53.0    0.079936\n",
      "61.0    0.079936\n",
      "72.0    0.079936\n",
      "Name: Age, dtype: float64\n"
     ]
    }
   ],
   "source": [
    "# List of ages to replace with NaN values\n",
    "ages_to_replace = [-29, 329, 5, 8, 11, -1, 99999999999, 327, -1726]\n",
    "\n",
    "# Replace specified ages with NaN in the 'Age' column of the dataset\n",
    "workplace_mental_health_data.replace(ages_to_replace, np.nan, inplace=True)\n",
    "\n",
    "# Get unique values in the cleaned 'Age' column\n",
    "age_column_clean_unique = workplace_mental_health_data['Age'].unique()\n",
    "\n",
    "# Calculate the counts of each unique age value in the cleaned 'Age' column\n",
    "age_column_clean_counts = workplace_mental_health_data['Age'].value_counts()\n",
    "\n",
    "# Calculate the percentage distribution of age values in the cleaned 'Age' column\n",
    "age_column_clean_percentage = workplace_mental_health_data['Age'].value_counts(normalize=True) * 100\n",
    "\n",
    "# Print unique values, counts, and percentages\n",
    "print(age_column_clean_unique)\n",
    "print(age_column_clean_counts)\n",
    "print(age_column_clean_percentage)\n"
   ]
  },
  {
   "cell_type": "code",
   "execution_count": 4,
   "metadata": {},
   "outputs": [
    {
     "name": "stdout",
     "output_type": "stream",
     "text": [
      "     Age  Count  Percentage\n",
      "0   29.0     85    6.794564\n",
      "1   32.0     82    6.554756\n",
      "2   26.0     75    5.995204\n",
      "3   27.0     71    5.675460\n",
      "4   33.0     70    5.595524\n",
      "5   28.0     68    5.435651\n",
      "6   31.0     67    5.355715\n",
      "7   34.0     65    5.195843\n",
      "8   30.0     63    5.035971\n",
      "9   25.0     61    4.876099\n",
      "10  35.0     55    4.396483\n",
      "11  23.0     51    4.076739\n",
      "12  24.0     46    3.677058\n",
      "13  37.0     43    3.437250\n",
      "14  38.0     39    3.117506\n",
      "15  36.0     37    2.957634\n",
      "16  39.0     33    2.637890\n",
      "17  40.0     33    2.637890\n",
      "18  43.0     28    2.238209\n",
      "19  41.0     21    1.678657\n",
      "20  22.0     21    1.678657\n",
      "21  42.0     20    1.598721\n",
      "22  21.0     16    1.278977\n",
      "23  45.0     12    0.959233\n",
      "24  46.0     12    0.959233\n",
      "25  44.0     11    0.879297\n",
      "26  19.0      9    0.719424\n",
      "27  18.0      7    0.559552\n",
      "28  48.0      6    0.479616\n",
      "29  50.0      6    0.479616\n",
      "30  20.0      6    0.479616\n",
      "31  51.0      5    0.399680\n",
      "32  49.0      4    0.319744\n",
      "33  56.0      4    0.319744\n",
      "34  55.0      3    0.239808\n",
      "35  57.0      3    0.239808\n",
      "36  54.0      3    0.239808\n",
      "37  47.0      2    0.159872\n",
      "38  60.0      2    0.159872\n",
      "39  58.0      1    0.079936\n",
      "40  62.0      1    0.079936\n",
      "41  65.0      1    0.079936\n",
      "42  53.0      1    0.079936\n",
      "43  61.0      1    0.079936\n",
      "44  72.0      1    0.079936\n"
     ]
    }
   ],
   "source": [
    "# Create a DataFrame to store the data\n",
    "age_table = pd.DataFrame({\n",
    "    'Age': age_column_clean_counts.index,\n",
    "    'Count': age_column_clean_counts.values,\n",
    "    'Percentage': age_column_clean_percentage.values\n",
    "})\n",
    "\n",
    "# Display the resulting table\n",
    "print(age_table)"
   ]
  },
  {
   "cell_type": "code",
   "execution_count": 5,
   "metadata": {},
   "outputs": [
    {
     "name": "stdout",
     "output_type": "stream",
     "text": [
      "['Female' 'Male' 'Non-binary' 'n/a']\n",
      "Male          995\n",
      "Female        252\n",
      "Non-binary      6\n",
      "n/a             6\n",
      "Name: Gender, dtype: int64\n",
      "Male          79.030977\n",
      "Female        20.015886\n",
      "Non-binary     0.476569\n",
      "n/a            0.476569\n",
      "Name: Gender, dtype: float64\n"
     ]
    }
   ],
   "source": [
    "# Renaming values in 'Gender' column\n",
    "gender_cleaning = {\n",
    "    'M':'Male',\n",
    "    'Female':'Female',\n",
    "    'Male':'Male',\n",
    "    'male':'Male',\n",
    "    'female': 'Female',\n",
    "    'm':'Male',\n",
    "    'Male-ish':'Male', \n",
    "    'maile':'Male', \n",
    "    'Trans-female':'Female',\n",
    "    'Cis Female':'Female', \n",
    "    'F':'Female',\n",
    "    'something kinda male?':'Male', \n",
    "    'Cis Male':'Male', \n",
    "    'Woman': 'Female',\n",
    "    'f': 'Female',\n",
    "    'Mal':'Male',\n",
    "    'Male (CIS)':'Male', \n",
    "    'queer/she/they':'Female',\n",
    "    'non-binary':'Non-binary',\n",
    "    'Femake':'Female',\n",
    "    'woman':'Female',\n",
    "    'Make':'Male', \n",
    "    'Nah':'n/a',\n",
    "    'All':'Non-binary',\n",
    "    'Enby':'n/a', \n",
    "    'fluid':'n/a',\n",
    "    'Genderqueer':'Non-binary',\n",
    "    'Female ':'Female', \n",
    "    'Androgyne':'Non-binary',\n",
    "    'Agender':'Non-binary',\n",
    "    'cis-female/femme':'Female', \n",
    "    'Guy (-ish) ^_^':'Male',\n",
    "    'male leaning androgynous':'Male',\n",
    "    'Male ':'Male',\n",
    "    'Man':'Male',\n",
    "    'Trans woman':'Female', \n",
    "    'msle':'Male',\n",
    "    'Neuter':'n/a',\n",
    "    'Female (trans)':'Female', \n",
    "    'queer':'Non-binary',\n",
    "    'Female (cis)':'Female', \n",
    "    'Mail':'Male', \n",
    "    'cis male':'Male',\n",
    "    'A little about you':'n/a',\n",
    "    'Malr':'Male',\n",
    "    'p': 'n/a',\n",
    "    'femail':'Female',\n",
    "    'Cis Man':'Male',\n",
    "    'ostensibly male, unsure what that really means':'Male',\n",
    "   \n",
    "}\n",
    "workplace_mental_health_data['Gender'] = workplace_mental_health_data['Gender'].map(gender_cleaning)\n",
    "\n",
    "# Get unique values in the cleaned 'Gender' column\n",
    "gender_column_unique = workplace_mental_health_data['Gender'].unique()\n",
    "\n",
    "# Calculate the counts of each unique gender value in the cleaned 'Gender' column\n",
    "gender_column_counts = (workplace_mental_health_data['Gender'].value_counts())\n",
    "\n",
    "# Calculate the percentage distribution of age values in the cleaned 'Age' column\n",
    "gender_column_percentage = workplace_mental_health_data['Gender'].value_counts(normalize=True) * 100\n",
    "\n",
    "# Print unique values, counts, and percentages\n",
    "print(gender_column_unique)\n",
    "print(gender_column_counts)\n",
    "print(gender_column_percentage)\n"
   ]
  },
  {
   "cell_type": "code",
   "execution_count": 6,
   "metadata": {},
   "outputs": [
    {
     "name": "stdout",
     "output_type": "stream",
     "text": [
      "       Gender  Count  Percentage\n",
      "0        Male    995   79.030977\n",
      "1      Female    252   20.015886\n",
      "2  Non-binary      6    0.476569\n",
      "3         n/a      6    0.476569\n"
     ]
    }
   ],
   "source": [
    "# Create a DataFrame to store the data\n",
    "gender_table = pd.DataFrame({\n",
    "    'Gender': gender_column_counts.index,\n",
    "    'Count': gender_column_counts.values,\n",
    "    'Percentage': gender_column_percentage.values\n",
    "})\n",
    "\n",
    "# Display the resulting table\n",
    "print(gender_table)"
   ]
  },
  {
   "cell_type": "code",
   "execution_count": 7,
   "metadata": {},
   "outputs": [
    {
     "name": "stdout",
     "output_type": "stream",
     "text": [
      "['United States' 'Canada' 'United Kingdom' 'Bulgaria' 'France' 'Portugal'\n",
      " 'Netherlands' 'Switzerland' 'Poland' 'Australia' 'Germany' 'Russia'\n",
      " 'Mexico' 'Brazil' 'Slovenia' 'Costa Rica' 'Austria' 'Ireland' 'India'\n",
      " 'South Africa' 'Italy' 'Sweden' 'Colombia' 'Latvia' 'Romania' 'Belgium'\n",
      " 'New Zealand' 'Zimbabwe' 'Spain' 'Finland' 'Uruguay' 'Israel'\n",
      " 'Bosnia and Herzegovina' 'Hungary' 'Singapore' 'Japan' 'Nigeria'\n",
      " 'Croatia' 'Norway' 'Thailand' 'Denmark' 'Bahamas, The' 'Greece' 'Moldova'\n",
      " 'Georgia' 'China' 'Czech Republic' 'Philippines']\n",
      "United States             751\n",
      "United Kingdom            185\n",
      "Canada                     72\n",
      "Germany                    45\n",
      "Ireland                    27\n",
      "Netherlands                27\n",
      "Australia                  21\n",
      "France                     13\n",
      "India                      10\n",
      "New Zealand                 8\n",
      "Poland                      7\n",
      "Switzerland                 7\n",
      "Sweden                      7\n",
      "Italy                       7\n",
      "South Africa                6\n",
      "Belgium                     6\n",
      "Brazil                      6\n",
      "Israel                      5\n",
      "Singapore                   4\n",
      "Bulgaria                    4\n",
      "Austria                     3\n",
      "Finland                     3\n",
      "Mexico                      3\n",
      "Russia                      3\n",
      "Denmark                     2\n",
      "Greece                      2\n",
      "Colombia                    2\n",
      "Croatia                     2\n",
      "Portugal                    2\n",
      "Moldova                     1\n",
      "Georgia                     1\n",
      "Bahamas, The                1\n",
      "China                       1\n",
      "Thailand                    1\n",
      "Czech Republic              1\n",
      "Norway                      1\n",
      "Romania                     1\n",
      "Nigeria                     1\n",
      "Japan                       1\n",
      "Hungary                     1\n",
      "Bosnia and Herzegovina      1\n",
      "Uruguay                     1\n",
      "Spain                       1\n",
      "Zimbabwe                    1\n",
      "Latvia                      1\n",
      "Costa Rica                  1\n",
      "Slovenia                    1\n",
      "Philippines                 1\n",
      "Name: Country, dtype: int64\n",
      "United States             59.650516\n",
      "United Kingdom            14.694202\n",
      "Canada                     5.718824\n",
      "Germany                    3.574265\n",
      "Ireland                    2.144559\n",
      "Netherlands                2.144559\n",
      "Australia                  1.667990\n",
      "France                     1.032566\n",
      "India                      0.794281\n",
      "New Zealand                0.635425\n",
      "Poland                     0.555997\n",
      "Switzerland                0.555997\n",
      "Sweden                     0.555997\n",
      "Italy                      0.555997\n",
      "South Africa               0.476569\n",
      "Belgium                    0.476569\n",
      "Brazil                     0.476569\n",
      "Israel                     0.397141\n",
      "Singapore                  0.317712\n",
      "Bulgaria                   0.317712\n",
      "Austria                    0.238284\n",
      "Finland                    0.238284\n",
      "Mexico                     0.238284\n",
      "Russia                     0.238284\n",
      "Denmark                    0.158856\n",
      "Greece                     0.158856\n",
      "Colombia                   0.158856\n",
      "Croatia                    0.158856\n",
      "Portugal                   0.158856\n",
      "Moldova                    0.079428\n",
      "Georgia                    0.079428\n",
      "Bahamas, The               0.079428\n",
      "China                      0.079428\n",
      "Thailand                   0.079428\n",
      "Czech Republic             0.079428\n",
      "Norway                     0.079428\n",
      "Romania                    0.079428\n",
      "Nigeria                    0.079428\n",
      "Japan                      0.079428\n",
      "Hungary                    0.079428\n",
      "Bosnia and Herzegovina     0.079428\n",
      "Uruguay                    0.079428\n",
      "Spain                      0.079428\n",
      "Zimbabwe                   0.079428\n",
      "Latvia                     0.079428\n",
      "Costa Rica                 0.079428\n",
      "Slovenia                   0.079428\n",
      "Philippines                0.079428\n",
      "Name: Country, dtype: float64\n"
     ]
    }
   ],
   "source": [
    "# Get the unique values in the 'Country' column\n",
    "country_column_unique = workplace_mental_health_data['Country'].unique()\n",
    "\n",
    "# Calculate the counts for each unique country in the cleaned 'Country' column\n",
    "country_column_counts = workplace_mental_health_data['Country'].value_counts()\n",
    "\n",
    "# Calculate the percentage distribution for each country in the 'Country' column\n",
    "country_column_percentage = workplace_mental_health_data['Country'].value_counts(normalize=True) * 100\n",
    "\n",
    "# Print unique values, counts, and percentages\n",
    "print(country_column_unique)\n",
    "print(country_column_counts)\n",
    "print(country_column_percentage)"
   ]
  },
  {
   "cell_type": "code",
   "execution_count": 8,
   "metadata": {},
   "outputs": [
    {
     "name": "stdout",
     "output_type": "stream",
     "text": [
      "                   Country  Count  Percentage\n",
      "0            United States    751   59.650516\n",
      "1           United Kingdom    185   14.694202\n",
      "2                   Canada     72    5.718824\n",
      "3                  Germany     45    3.574265\n",
      "4                  Ireland     27    2.144559\n",
      "5              Netherlands     27    2.144559\n",
      "6                Australia     21    1.667990\n",
      "7                   France     13    1.032566\n",
      "8                    India     10    0.794281\n",
      "9              New Zealand      8    0.635425\n",
      "10                  Poland      7    0.555997\n",
      "11             Switzerland      7    0.555997\n",
      "12                  Sweden      7    0.555997\n",
      "13                   Italy      7    0.555997\n",
      "14            South Africa      6    0.476569\n",
      "15                 Belgium      6    0.476569\n",
      "16                  Brazil      6    0.476569\n",
      "17                  Israel      5    0.397141\n",
      "18               Singapore      4    0.317712\n",
      "19                Bulgaria      4    0.317712\n",
      "20                 Austria      3    0.238284\n",
      "21                 Finland      3    0.238284\n",
      "22                  Mexico      3    0.238284\n",
      "23                  Russia      3    0.238284\n",
      "24                 Denmark      2    0.158856\n",
      "25                  Greece      2    0.158856\n",
      "26                Colombia      2    0.158856\n",
      "27                 Croatia      2    0.158856\n",
      "28                Portugal      2    0.158856\n",
      "29                 Moldova      1    0.079428\n",
      "30                 Georgia      1    0.079428\n",
      "31            Bahamas, The      1    0.079428\n",
      "32                   China      1    0.079428\n",
      "33                Thailand      1    0.079428\n",
      "34          Czech Republic      1    0.079428\n",
      "35                  Norway      1    0.079428\n",
      "36                 Romania      1    0.079428\n",
      "37                 Nigeria      1    0.079428\n",
      "38                   Japan      1    0.079428\n",
      "39                 Hungary      1    0.079428\n",
      "40  Bosnia and Herzegovina      1    0.079428\n",
      "41                 Uruguay      1    0.079428\n",
      "42                   Spain      1    0.079428\n",
      "43                Zimbabwe      1    0.079428\n",
      "44                  Latvia      1    0.079428\n",
      "45              Costa Rica      1    0.079428\n",
      "46                Slovenia      1    0.079428\n",
      "47             Philippines      1    0.079428\n"
     ]
    }
   ],
   "source": [
    "# Create a DataFrame to store the data\n",
    "country_table = pd.DataFrame({\n",
    "    'Country': country_column_counts.index,\n",
    "    'Count': country_column_counts.values,\n",
    "    'Percentage': country_column_percentage.values\n",
    "})\n",
    "\n",
    "# Display the resulting table\n",
    "print(country_table)"
   ]
  },
  {
   "cell_type": "code",
   "execution_count": 9,
   "metadata": {},
   "outputs": [
    {
     "name": "stdout",
     "output_type": "stream",
     "text": [
      "['IL' 'IN' nan 'TX' 'TN' 'MI' 'OH' 'CA' 'CT' 'MD' 'NY' 'NC' 'MA' 'IA' 'PA'\n",
      " 'WA' 'WI' 'UT' 'NM' 'OR' 'FL' 'MN' 'MO' 'AZ' 'CO' 'GA' 'DC' 'NE' 'WV'\n",
      " 'OK' 'KS' 'VA' 'NH' 'KY' 'AL' 'NV' 'NJ' 'SC' 'VT' 'SD' 'ID' 'MS' 'RI'\n",
      " 'WY' 'LA' 'ME']\n",
      "CA    138\n",
      "WA     70\n",
      "NY     57\n",
      "TN     45\n",
      "TX     44\n",
      "OH     30\n",
      "IL     29\n",
      "OR     29\n",
      "PA     29\n",
      "IN     27\n",
      "MI     22\n",
      "MN     21\n",
      "MA     20\n",
      "FL     15\n",
      "NC     14\n",
      "VA     14\n",
      "WI     12\n",
      "GA     12\n",
      "MO     12\n",
      "UT     11\n",
      "CO      9\n",
      "MD      8\n",
      "AL      8\n",
      "AZ      7\n",
      "OK      6\n",
      "NJ      6\n",
      "KY      5\n",
      "SC      5\n",
      "IA      4\n",
      "CT      4\n",
      "DC      4\n",
      "NV      3\n",
      "VT      3\n",
      "SD      3\n",
      "KS      3\n",
      "NH      3\n",
      "WY      2\n",
      "NM      2\n",
      "NE      2\n",
      "WV      1\n",
      "ID      1\n",
      "MS      1\n",
      "RI      1\n",
      "LA      1\n",
      "ME      1\n",
      "Name: state, dtype: int64\n",
      "CA    18.548387\n",
      "WA     9.408602\n",
      "NY     7.661290\n",
      "TN     6.048387\n",
      "TX     5.913978\n",
      "OH     4.032258\n",
      "IL     3.897849\n",
      "OR     3.897849\n",
      "PA     3.897849\n",
      "IN     3.629032\n",
      "MI     2.956989\n",
      "MN     2.822581\n",
      "MA     2.688172\n",
      "FL     2.016129\n",
      "NC     1.881720\n",
      "VA     1.881720\n",
      "WI     1.612903\n",
      "GA     1.612903\n",
      "MO     1.612903\n",
      "UT     1.478495\n",
      "CO     1.209677\n",
      "MD     1.075269\n",
      "AL     1.075269\n",
      "AZ     0.940860\n",
      "OK     0.806452\n",
      "NJ     0.806452\n",
      "KY     0.672043\n",
      "SC     0.672043\n",
      "IA     0.537634\n",
      "CT     0.537634\n",
      "DC     0.537634\n",
      "NV     0.403226\n",
      "VT     0.403226\n",
      "SD     0.403226\n",
      "KS     0.403226\n",
      "NH     0.403226\n",
      "WY     0.268817\n",
      "NM     0.268817\n",
      "NE     0.268817\n",
      "WV     0.134409\n",
      "ID     0.134409\n",
      "MS     0.134409\n",
      "RI     0.134409\n",
      "LA     0.134409\n",
      "ME     0.134409\n",
      "Name: state, dtype: float64\n"
     ]
    }
   ],
   "source": [
    "# Get the unique values in the 'state' column\n",
    "state_column_unique = workplace_mental_health_data['state'].unique()\n",
    "\n",
    "# Calculate the counts for each unique state in the 'state' column\n",
    "state_column_counts = workplace_mental_health_data['state'].value_counts()\n",
    "\n",
    "# Calculate the percentage distribution for each state in the 'state' column\n",
    "state_column_percentage = workplace_mental_health_data['state'].value_counts(normalize=True) * 100\n",
    "\n",
    "# Print unique values, counts, and percentages\n",
    "print(state_column_unique)\n",
    "print(state_column_counts)\n",
    "print(state_column_percentage)"
   ]
  },
  {
   "cell_type": "code",
   "execution_count": 10,
   "metadata": {},
   "outputs": [
    {
     "name": "stdout",
     "output_type": "stream",
     "text": [
      "   State  Count  Percentage\n",
      "0     CA    138   18.548387\n",
      "1     WA     70    9.408602\n",
      "2     NY     57    7.661290\n",
      "3     TN     45    6.048387\n",
      "4     TX     44    5.913978\n",
      "5     OH     30    4.032258\n",
      "6     IL     29    3.897849\n",
      "7     OR     29    3.897849\n",
      "8     PA     29    3.897849\n",
      "9     IN     27    3.629032\n",
      "10    MI     22    2.956989\n",
      "11    MN     21    2.822581\n",
      "12    MA     20    2.688172\n",
      "13    FL     15    2.016129\n",
      "14    NC     14    1.881720\n",
      "15    VA     14    1.881720\n",
      "16    WI     12    1.612903\n",
      "17    GA     12    1.612903\n",
      "18    MO     12    1.612903\n",
      "19    UT     11    1.478495\n",
      "20    CO      9    1.209677\n",
      "21    MD      8    1.075269\n",
      "22    AL      8    1.075269\n",
      "23    AZ      7    0.940860\n",
      "24    OK      6    0.806452\n",
      "25    NJ      6    0.806452\n",
      "26    KY      5    0.672043\n",
      "27    SC      5    0.672043\n",
      "28    IA      4    0.537634\n",
      "29    CT      4    0.537634\n",
      "30    DC      4    0.537634\n",
      "31    NV      3    0.403226\n",
      "32    VT      3    0.403226\n",
      "33    SD      3    0.403226\n",
      "34    KS      3    0.403226\n",
      "35    NH      3    0.403226\n",
      "36    WY      2    0.268817\n",
      "37    NM      2    0.268817\n",
      "38    NE      2    0.268817\n",
      "39    WV      1    0.134409\n",
      "40    ID      1    0.134409\n",
      "41    MS      1    0.134409\n",
      "42    RI      1    0.134409\n",
      "43    LA      1    0.134409\n",
      "44    ME      1    0.134409\n"
     ]
    }
   ],
   "source": [
    "# Create a DataFrame to store the data\n",
    "state_table = pd.DataFrame({\n",
    "    'State': state_column_counts.index,\n",
    "    'Count': state_column_counts.values,\n",
    "    'Percentage': state_column_percentage.values\n",
    "})\n",
    "\n",
    "# Display the resulting table\n",
    "print(state_table)"
   ]
  },
  {
   "cell_type": "code",
   "execution_count": 11,
   "metadata": {},
   "outputs": [
    {
     "name": "stdout",
     "output_type": "stream",
     "text": [
      "[nan 'Yes' 'No']\n",
      "No     1095\n",
      "Yes     146\n",
      "Name: self_employed, dtype: int64\n",
      "No     88.235294\n",
      "Yes    11.764706\n",
      "Name: self_employed, dtype: float64\n"
     ]
    }
   ],
   "source": [
    "# Get the unique values in the 'self_employed' column\n",
    "self_employed_unique = workplace_mental_health_data['self_employed'].unique()\n",
    "\n",
    "# Calculate the counts for each unique answer in the 'self_employed' column\n",
    "self_employed_counts = workplace_mental_health_data['self_employed'].value_counts()\n",
    "\n",
    "# Calculate the percentage distribution for each unique answer in the 'self_employed' column\n",
    "self_employed_percentage = workplace_mental_health_data['self_employed'].value_counts(normalize=True) * 100\n",
    "\n",
    "# Print unique values, counts, and percentages\n",
    "print(self_employed_unique)\n",
    "print(self_employed_counts)\n",
    "print(self_employed_percentage)"
   ]
  },
  {
   "cell_type": "code",
   "execution_count": 12,
   "metadata": {},
   "outputs": [
    {
     "name": "stdout",
     "output_type": "stream",
     "text": [
      "  self_employed  Count  Percentage\n",
      "0            No   1095   88.235294\n",
      "1           Yes    146   11.764706\n"
     ]
    }
   ],
   "source": [
    "# Create a DataFrame to store the data\n",
    "self_employed_table = pd.DataFrame({\n",
    "    'self_employed': self_employed_counts.index,\n",
    "    'Count': self_employed_counts.values,\n",
    "    'Percentage': self_employed_percentage.values\n",
    "})\n",
    "\n",
    "# Display the resulting table\n",
    "print(self_employed_table)"
   ]
  },
  {
   "cell_type": "code",
   "execution_count": 13,
   "metadata": {},
   "outputs": [
    {
     "name": "stdout",
     "output_type": "stream",
     "text": [
      "['No' 'Yes']\n",
      "No     767\n",
      "Yes    492\n",
      "Name: family_history, dtype: int64\n",
      "No     60.921366\n",
      "Yes    39.078634\n",
      "Name: family_history, dtype: float64\n"
     ]
    }
   ],
   "source": [
    "# Get the unique values in the 'family_history' column\n",
    "family_history_unique = workplace_mental_health_data['family_history'].unique()\n",
    "\n",
    "# Calculate the counts for each unique answer in the 'family_history' column\n",
    "family_history_counts = workplace_mental_health_data['family_history'].value_counts()\n",
    "\n",
    "# Calculate the percentage distribution for each unique answer in the 'family_history' column\n",
    "family_history_percentage = workplace_mental_health_data['family_history'].value_counts(normalize=True) * 100\n",
    "\n",
    "# Print unique values, counts, and percentages\n",
    "print(family_history_unique)\n",
    "print(family_history_counts)\n",
    "print(family_history_percentage)\n",
    "\n"
   ]
  },
  {
   "cell_type": "code",
   "execution_count": 14,
   "metadata": {},
   "outputs": [
    {
     "name": "stdout",
     "output_type": "stream",
     "text": [
      "  family_history  Count  Percentage\n",
      "0             No    767   60.921366\n",
      "1            Yes    492   39.078634\n"
     ]
    }
   ],
   "source": [
    "# Create a DataFrame to store the data\n",
    "family_history_table = pd.DataFrame({\n",
    "    'family_history': family_history_counts.index,\n",
    "    'Count': family_history_counts.values,\n",
    "    'Percentage': family_history_percentage.values\n",
    "})\n",
    "\n",
    "# Display the resulting table\n",
    "print(family_history_table)"
   ]
  },
  {
   "cell_type": "code",
   "execution_count": 15,
   "metadata": {},
   "outputs": [
    {
     "name": "stdout",
     "output_type": "stream",
     "text": [
      "['Yes' 'No']\n",
      "Yes    637\n",
      "No     622\n",
      "Name: treatment, dtype: int64\n",
      "Yes    50.595711\n",
      "No     49.404289\n",
      "Name: treatment, dtype: float64\n"
     ]
    }
   ],
   "source": [
    "# Get the unique answers in the 'treatment' column\n",
    "treatment_unique = workplace_mental_health_data['treatment'].unique()\n",
    "\n",
    "# Calculate the counts for each unique answer in the 'treatment' column\n",
    "treatment_counts = workplace_mental_health_data['treatment'].value_counts()\n",
    "\n",
    "# Calculate the percentage distribution for each unique answer in the 'treatment' column\n",
    "treatment_percentage = workplace_mental_health_data['treatment'].value_counts(normalize=True) * 100\n",
    "\n",
    "# Print unique answers, counts, and percentages\n",
    "print(treatment_unique)\n",
    "print(treatment_counts)\n",
    "print(treatment_percentage)"
   ]
  },
  {
   "cell_type": "code",
   "execution_count": 16,
   "metadata": {},
   "outputs": [
    {
     "name": "stdout",
     "output_type": "stream",
     "text": [
      "  treatment  Count  Percentage\n",
      "0       Yes    637   50.595711\n",
      "1        No    622   49.404289\n"
     ]
    }
   ],
   "source": [
    "# Create a DataFrame to store the data\n",
    "treatment_table = pd.DataFrame({\n",
    "    'treatment': treatment_counts.index,\n",
    "    'Count': treatment_counts.values,\n",
    "    'Percentage': treatment_percentage.values\n",
    "})\n",
    "\n",
    "# Display the resulting table\n",
    "print(treatment_table)"
   ]
  },
  {
   "cell_type": "code",
   "execution_count": 17,
   "metadata": {},
   "outputs": [
    {
     "name": "stdout",
     "output_type": "stream",
     "text": [
      "['Often' 'Rarely' 'Never' 'Sometimes' nan]\n",
      "Sometimes    465\n",
      "Never        213\n",
      "Rarely       173\n",
      "Often        144\n",
      "Name: work_interfere, dtype: int64\n",
      "Sometimes    46.733668\n",
      "Never        21.407035\n",
      "Rarely       17.386935\n",
      "Often        14.472362\n",
      "Name: work_interfere, dtype: float64\n"
     ]
    }
   ],
   "source": [
    "# Get the unique answers in the 'work_interfere' column\n",
    "work_interfere_unique = workplace_mental_health_data['work_interfere'].unique()\n",
    "\n",
    "# Calculate the counts for each unique answer in the 'work_interfere' column\n",
    "work_interfere_counts = workplace_mental_health_data['work_interfere'].value_counts()\n",
    "\n",
    "# Calculate the percentage distribution for each unique answer in the 'work_interfere' column\n",
    "work_interfere_percentage = workplace_mental_health_data['work_interfere'].value_counts(normalize=True) * 100\n",
    "\n",
    "# Print unique answers, counts, and percentages\n",
    "print(work_interfere_unique)\n",
    "print(work_interfere_counts)\n",
    "print(work_interfere_percentage)"
   ]
  },
  {
   "cell_type": "code",
   "execution_count": 18,
   "metadata": {},
   "outputs": [
    {
     "name": "stdout",
     "output_type": "stream",
     "text": [
      "  work_interfere  Count  Percentage\n",
      "0      Sometimes    465   46.733668\n",
      "1          Never    213   21.407035\n",
      "2         Rarely    173   17.386935\n",
      "3          Often    144   14.472362\n"
     ]
    }
   ],
   "source": [
    "# Create a DataFrame to store the data\n",
    "work_interfere_table = pd.DataFrame({\n",
    "    'work_interfere': work_interfere_counts.index,\n",
    "    'Count': work_interfere_counts.values,\n",
    "    'Percentage': work_interfere_percentage.values\n",
    "})\n",
    "\n",
    "# Display the resulting table\n",
    "print(work_interfere_table)"
   ]
  },
  {
   "cell_type": "code",
   "execution_count": 19,
   "metadata": {},
   "outputs": [
    {
     "name": "stdout",
     "output_type": "stream",
     "text": [
      "['6-25' 'More than 1000' '26-100' '100-500' '1-5' '500-1000']\n",
      "6-25              290\n",
      "26-100            289\n",
      "More than 1000    282\n",
      "100-500           176\n",
      "1-5               162\n",
      "500-1000           60\n",
      "Name: no_employees, dtype: int64\n",
      "6-25              23.034154\n",
      "26-100            22.954726\n",
      "More than 1000    22.398729\n",
      "100-500           13.979349\n",
      "1-5               12.867355\n",
      "500-1000           4.765687\n",
      "Name: no_employees, dtype: float64\n"
     ]
    }
   ],
   "source": [
    "# Get the unique answers in the 'no_employees' column\n",
    "no_employees_unique = workplace_mental_health_data['no_employees'].unique()\n",
    "\n",
    "# Calculate the counts for each unique answer in the 'no_employees' column\n",
    "no_employees_counts = workplace_mental_health_data['no_employees'].value_counts()\n",
    "\n",
    "# Calculate the percentage distribution for each unique answer in the 'no_employees' column\n",
    "no_employees_percentage = workplace_mental_health_data['no_employees'].value_counts(normalize=True) * 100\n",
    "\n",
    "# Print unique answers, counts, and percentages\n",
    "print(no_employees_unique)\n",
    "print(no_employees_counts )\n",
    "print(no_employees_percentage)"
   ]
  },
  {
   "cell_type": "code",
   "execution_count": 20,
   "metadata": {},
   "outputs": [
    {
     "name": "stdout",
     "output_type": "stream",
     "text": [
      "     no_employees  Count  Percentage\n",
      "0            6-25    290   23.034154\n",
      "1          26-100    289   22.954726\n",
      "2  More than 1000    282   22.398729\n",
      "3         100-500    176   13.979349\n",
      "4             1-5    162   12.867355\n",
      "5        500-1000     60    4.765687\n"
     ]
    }
   ],
   "source": [
    "# Create a DataFrame to store the data\n",
    "no_employees_table = pd.DataFrame({\n",
    "    'no_employees': no_employees_counts.index,\n",
    "    'Count': no_employees_counts.values,\n",
    "    'Percentage': no_employees_percentage.values\n",
    "})\n",
    "\n",
    "# Display the resulting table\n",
    "print(no_employees_table)"
   ]
  },
  {
   "cell_type": "code",
   "execution_count": 21,
   "metadata": {},
   "outputs": [
    {
     "name": "stdout",
     "output_type": "stream",
     "text": [
      "['No' 'Yes']\n",
      "No     883\n",
      "Yes    376\n",
      "Name: remote_work, dtype: int64\n",
      "No     70.135028\n",
      "Yes    29.864972\n",
      "Name: remote_work, dtype: float64\n"
     ]
    }
   ],
   "source": [
    "# Get the unique answers in the 'remote_work' column\n",
    "remote_work_unique = workplace_mental_health_data['remote_work'].unique()\n",
    "\n",
    "# Calculate the counts for each unique answer in the 'remote_work' column\n",
    "remote_work_counts = workplace_mental_health_data['remote_work'].value_counts()\n",
    "\n",
    "# Calculate the percentage distribution for each unique answer in the 'remote_work' column\n",
    "remote_work_percentage = workplace_mental_health_data['remote_work'].value_counts(normalize=True) * 100\n",
    "\n",
    "# Print unique answers, counts, and percentages\n",
    "print(remote_work_unique)\n",
    "print(remote_work_counts)\n",
    "print(remote_work_percentage)"
   ]
  },
  {
   "cell_type": "code",
   "execution_count": 22,
   "metadata": {},
   "outputs": [
    {
     "name": "stdout",
     "output_type": "stream",
     "text": [
      "  remote_work  Count  Percentage\n",
      "0          No    883   70.135028\n",
      "1         Yes    376   29.864972\n"
     ]
    }
   ],
   "source": [
    "# Create a DataFrame to store the data\n",
    "remote_work_table = pd.DataFrame({\n",
    "    'remote_work': remote_work_counts.index,\n",
    "    'Count': remote_work_counts.values,\n",
    "    'Percentage': remote_work_percentage.values\n",
    "})\n",
    "\n",
    "# Display the resulting table\n",
    "print(remote_work_table)"
   ]
  },
  {
   "cell_type": "code",
   "execution_count": 23,
   "metadata": {},
   "outputs": [
    {
     "name": "stdout",
     "output_type": "stream",
     "text": [
      "['Yes' 'No']\n",
      "Yes    1031\n",
      "No      228\n",
      "Name: tech_company, dtype: int64\n",
      "Yes    81.890389\n",
      "No     18.109611\n",
      "Name: tech_company, dtype: float64\n"
     ]
    }
   ],
   "source": [
    "# Get the unique answers in the 'tech_company' column\n",
    "tech_company_unique = workplace_mental_health_data['tech_company'].unique()\n",
    "\n",
    "# Calculate the counts for each unique answer in the 'tech_company' column\n",
    "tech_company_counts = workplace_mental_health_data['tech_company'].value_counts()\n",
    "\n",
    "# Calculate the percentage distribution for each unique answer in the 'tech_company' column\n",
    "tech_company_percentage = workplace_mental_health_data['tech_company'].value_counts(normalize=True) * 100\n",
    "\n",
    "# Print unique answers, counts, and percentages\n",
    "print(tech_company_unique)\n",
    "print(tech_company_counts)\n",
    "print(tech_company_percentage)"
   ]
  },
  {
   "cell_type": "code",
   "execution_count": 24,
   "metadata": {},
   "outputs": [
    {
     "name": "stdout",
     "output_type": "stream",
     "text": [
      "  tech_company  Count  Percentage\n",
      "0          Yes   1031   81.890389\n",
      "1           No    228   18.109611\n"
     ]
    }
   ],
   "source": [
    "# Create a DataFrame to store the data\n",
    "tech_company_table = pd.DataFrame({\n",
    "    'tech_company': tech_company_counts.index,\n",
    "    'Count': tech_company_counts.values,\n",
    "    'Percentage': tech_company_percentage.values\n",
    "})\n",
    "\n",
    "# Display the resulting table\n",
    "print(tech_company_table)"
   ]
  },
  {
   "cell_type": "code",
   "execution_count": 25,
   "metadata": {},
   "outputs": [
    {
     "name": "stdout",
     "output_type": "stream",
     "text": [
      "['Yes' \"Don't know\" 'No']\n",
      "Yes           477\n",
      "Don't know    408\n",
      "No            374\n",
      "Name: benefits, dtype: int64\n",
      "Yes           37.887212\n",
      "Don't know    32.406672\n",
      "No            29.706116\n",
      "Name: benefits, dtype: float64\n"
     ]
    }
   ],
   "source": [
    "# Get the unique answers in the 'benefits' column\n",
    "benefits_unique = workplace_mental_health_data['benefits'].unique()\n",
    "\n",
    "# Calculate the counts for each unique answer in the 'benefits' column\n",
    "benefits_counts = workplace_mental_health_data['benefits'].value_counts()\n",
    "\n",
    "# Calculate the percentage distribution for each unique answer in the 'benefits' column\n",
    "benefits_percentage = workplace_mental_health_data['benefits'].value_counts(normalize=True) * 100\n",
    "\n",
    "# Print unique answers, counts, and percentages\n",
    "print(benefits_unique)\n",
    "print(benefits_counts)\n",
    "print(benefits_percentage)"
   ]
  },
  {
   "cell_type": "code",
   "execution_count": 26,
   "metadata": {},
   "outputs": [
    {
     "name": "stdout",
     "output_type": "stream",
     "text": [
      "     benefits  Count  Percentage\n",
      "0         Yes    477   37.887212\n",
      "1  Don't know    408   32.406672\n",
      "2          No    374   29.706116\n"
     ]
    }
   ],
   "source": [
    "# Create a DataFrame to store the data\n",
    "benefits_table = pd.DataFrame({\n",
    "    'benefits': benefits_counts.index,\n",
    "    'Count': benefits_counts.values,\n",
    "    'Percentage': benefits_percentage.values\n",
    "})\n",
    "\n",
    "# Display the resulting table\n",
    "print(benefits_table)"
   ]
  },
  {
   "cell_type": "code",
   "execution_count": 27,
   "metadata": {},
   "outputs": [
    {
     "name": "stdout",
     "output_type": "stream",
     "text": [
      "['Not sure' 'No' 'Yes']\n",
      "No          501\n",
      "Yes         444\n",
      "Not sure    314\n",
      "Name: care_options, dtype: int64\n",
      "No          39.793487\n",
      "Yes         35.266084\n",
      "Not sure    24.940429\n",
      "Name: care_options, dtype: float64\n"
     ]
    }
   ],
   "source": [
    "\n",
    "# Get the unique answers in the 'care_options' column\n",
    "care_options_unique = workplace_mental_health_data['care_options'].unique()\n",
    "\n",
    "# Calculate the counts for each unique answer in the 'care_options' column\n",
    "care_options_counts = workplace_mental_health_data['care_options'].value_counts()\n",
    "\n",
    "# Calculate the percentage distribution for each unique answer in the 'care_options' column\n",
    "care_options_percentage = workplace_mental_health_data['care_options'].value_counts(normalize=True) * 100\n",
    "\n",
    "# Print unique answers, counts, and percentages\n",
    "print(care_options_unique)\n",
    "print(care_options_counts)\n",
    "print(care_options_percentage)"
   ]
  },
  {
   "cell_type": "code",
   "execution_count": 28,
   "metadata": {},
   "outputs": [
    {
     "name": "stdout",
     "output_type": "stream",
     "text": [
      "  care_options  Count  Percentage\n",
      "0           No    501   39.793487\n",
      "1          Yes    444   35.266084\n",
      "2     Not sure    314   24.940429\n"
     ]
    }
   ],
   "source": [
    "# Create a DataFrame to store the data\n",
    "care_options_table = pd.DataFrame({\n",
    "    'care_options': care_options_counts.index,\n",
    "    'Count': care_options_counts.values,\n",
    "    'Percentage': care_options_percentage.values\n",
    "})\n",
    "\n",
    "# Display the resulting table\n",
    "print(care_options_table)"
   ]
  },
  {
   "cell_type": "code",
   "execution_count": 29,
   "metadata": {},
   "outputs": [
    {
     "name": "stdout",
     "output_type": "stream",
     "text": [
      "['No' \"Don't know\" 'Yes']\n",
      "No            842\n",
      "Yes           229\n",
      "Don't know    188\n",
      "Name: wellness_program, dtype: int64\n",
      "No            66.878475\n",
      "Yes           18.189039\n",
      "Don't know    14.932486\n",
      "Name: wellness_program, dtype: float64\n"
     ]
    }
   ],
   "source": [
    "\n",
    "# Get the unique answers in the 'wellness_program' column\n",
    "wellness_program_unique = workplace_mental_health_data['wellness_program'].unique()\n",
    "\n",
    "# Calculate the counts for each unique answer in the 'wellness_programs' column\n",
    "wellness_program_counts = workplace_mental_health_data['wellness_program'].value_counts()\n",
    "\n",
    "# Calculate the percentage distribution for each unique answer in the 'wellness_programs' column\n",
    "wellness_program_percentage = workplace_mental_health_data['wellness_program'].value_counts(normalize=True) * 100\n",
    "\n",
    "# Print unique answers, counts, and percentages\n",
    "print(wellness_program_unique)\n",
    "print(wellness_program_counts)\n",
    "print(wellness_program_percentage)"
   ]
  },
  {
   "cell_type": "code",
   "execution_count": 30,
   "metadata": {},
   "outputs": [
    {
     "name": "stdout",
     "output_type": "stream",
     "text": [
      "  wellness_program  Count  Percentage\n",
      "0               No    842   66.878475\n",
      "1              Yes    229   18.189039\n",
      "2       Don't know    188   14.932486\n"
     ]
    }
   ],
   "source": [
    "# Create a DataFrame to store the data\n",
    "wellness_program_table = pd.DataFrame({\n",
    "    'wellness_program': wellness_program_counts.index,\n",
    "    'Count': wellness_program_counts.values,\n",
    "    'Percentage': wellness_program_percentage.values\n",
    "})\n",
    "\n",
    "# Display the resulting table\n",
    "print(wellness_program_table)"
   ]
  },
  {
   "cell_type": "code",
   "execution_count": 31,
   "metadata": {},
   "outputs": [
    {
     "name": "stdout",
     "output_type": "stream",
     "text": [
      "['Yes' \"Don't know\" 'No']\n",
      "No            646\n",
      "Don't know    363\n",
      "Yes           250\n",
      "Name: seek_help, dtype: int64\n",
      "No            51.310564\n",
      "Don't know    28.832407\n",
      "Yes           19.857029\n",
      "Name: seek_help, dtype: float64\n"
     ]
    }
   ],
   "source": [
    "\n",
    "# Get the unique answers in the 'seek_help' column\n",
    "seek_help_unique = workplace_mental_health_data['seek_help'].unique()\n",
    "\n",
    "# Calculate the counts for each unique answer in the 'seek_help' column\n",
    "seek_help_counts = workplace_mental_health_data['seek_help'].value_counts()\n",
    "\n",
    "# Calculate the percentage distribution for each unique answer in the 'seek_help' column\n",
    "seek_help_percentage = workplace_mental_health_data['seek_help'].value_counts(normalize=True) * 100\n",
    "\n",
    "# Print unique answers, counts, and percentages\n",
    "print(seek_help_unique)\n",
    "print(seek_help_counts)\n",
    "print(seek_help_percentage)"
   ]
  },
  {
   "cell_type": "code",
   "execution_count": 32,
   "metadata": {},
   "outputs": [
    {
     "name": "stdout",
     "output_type": "stream",
     "text": [
      "    seek_help  Count  Percentage\n",
      "0          No    646   51.310564\n",
      "1  Don't know    363   28.832407\n",
      "2         Yes    250   19.857029\n"
     ]
    }
   ],
   "source": [
    "# Create a DataFrame to store the data\n",
    "seek_help_table = pd.DataFrame({\n",
    "    'seek_help': seek_help_counts.index,\n",
    "    'Count': seek_help_counts.values,\n",
    "    'Percentage': seek_help_percentage.values\n",
    "})\n",
    "\n",
    "# Display the resulting table\n",
    "print(seek_help_table)"
   ]
  },
  {
   "cell_type": "code",
   "execution_count": 33,
   "metadata": {},
   "outputs": [
    {
     "name": "stdout",
     "output_type": "stream",
     "text": [
      "['Yes' \"Don't know\" 'No']\n",
      "Don't know    819\n",
      "Yes           375\n",
      "No             65\n",
      "Name: anonymity, dtype: int64\n",
      "Don't know    65.051628\n",
      "Yes           29.785544\n",
      "No             5.162828\n",
      "Name: anonymity, dtype: float64\n"
     ]
    }
   ],
   "source": [
    "\n",
    "# Get the unique answers in the 'anonymity' column\n",
    "anonymity_unique = workplace_mental_health_data['anonymity'].unique()\n",
    "\n",
    "# Calculate the counts for each unique answer in the 'anonymity' column\n",
    "anonymity_counts = workplace_mental_health_data['anonymity'].value_counts()\n",
    "\n",
    "# Calculate the percentage distribution for each unique answer in the 'anonymity' column\n",
    "anonymity_percentage = workplace_mental_health_data['anonymity'].value_counts(normalize=True) * 100\n",
    "\n",
    "# Print unique answers, counts, and percentages\n",
    "print(anonymity_unique)\n",
    "print(anonymity_counts)\n",
    "print(anonymity_percentage)"
   ]
  },
  {
   "cell_type": "code",
   "execution_count": 34,
   "metadata": {},
   "outputs": [
    {
     "name": "stdout",
     "output_type": "stream",
     "text": [
      "    anonymity  Count  Percentage\n",
      "0  Don't know    819   65.051628\n",
      "1         Yes    375   29.785544\n",
      "2          No     65    5.162828\n"
     ]
    }
   ],
   "source": [
    "# Create a DataFrame to store the data\n",
    "anonymity_table = pd.DataFrame({\n",
    "    'anonymity': anonymity_counts.index,\n",
    "    'Count': anonymity_counts.values,\n",
    "    'Percentage': anonymity_percentage.values\n",
    "})\n",
    "\n",
    "# Display the resulting table\n",
    "print(anonymity_table)"
   ]
  },
  {
   "cell_type": "code",
   "execution_count": 35,
   "metadata": {},
   "outputs": [
    {
     "name": "stdout",
     "output_type": "stream",
     "text": [
      "['Somewhat easy' \"Don't know\" 'Somewhat difficult' 'Very difficult'\n",
      " 'Very easy']\n",
      "Don't know            563\n",
      "Somewhat easy         266\n",
      "Very easy             206\n",
      "Somewhat difficult    126\n",
      "Very difficult         98\n",
      "Name: leave, dtype: int64\n",
      "Don't know            44.718030\n",
      "Somewhat easy         21.127879\n",
      "Very easy             16.362192\n",
      "Somewhat difficult    10.007943\n",
      "Very difficult         7.783956\n",
      "Name: leave, dtype: float64\n"
     ]
    }
   ],
   "source": [
    "\n",
    "# Get the unique answers in the 'leave' column\n",
    "leave_unique = workplace_mental_health_data['leave'].unique()\n",
    "\n",
    "# Calculate the counts for each unique answer in the 'leave' column\n",
    "leave_counts = workplace_mental_health_data['leave'].value_counts()\n",
    "\n",
    "# Calculate the percentage distribution for each unique answer in the 'leave' column\n",
    "leave_percentage = workplace_mental_health_data['leave'].value_counts(normalize=True) * 100\n",
    "\n",
    "# Print unique answers, counts, and percentages\n",
    "print(leave_unique)\n",
    "print(leave_counts)\n",
    "print(leave_percentage)\n"
   ]
  },
  {
   "cell_type": "code",
   "execution_count": 36,
   "metadata": {},
   "outputs": [
    {
     "name": "stdout",
     "output_type": "stream",
     "text": [
      "                leave  Count  Percentage\n",
      "0          Don't know    563   44.718030\n",
      "1       Somewhat easy    266   21.127879\n",
      "2           Very easy    206   16.362192\n",
      "3  Somewhat difficult    126   10.007943\n",
      "4      Very difficult     98    7.783956\n"
     ]
    }
   ],
   "source": [
    "# Create a DataFrame to store the data\n",
    "leave_table = pd.DataFrame({\n",
    "    'leave': leave_counts.index,\n",
    "    'Count': leave_counts.values,\n",
    "    'Percentage': leave_percentage.values\n",
    "})\n",
    "\n",
    "# Display the resulting table\n",
    "print(leave_table)"
   ]
  },
  {
   "cell_type": "code",
   "execution_count": 37,
   "metadata": {},
   "outputs": [
    {
     "name": "stdout",
     "output_type": "stream",
     "text": [
      "['No' 'Maybe' 'Yes']\n",
      "No       490\n",
      "Maybe    477\n",
      "Yes      292\n",
      "Name: mental_health_consequence, dtype: int64\n",
      "No       38.919778\n",
      "Maybe    37.887212\n",
      "Yes      23.193010\n",
      "Name: mental_health_consequence, dtype: float64\n"
     ]
    }
   ],
   "source": [
    "# Get the unique answers in the 'mental_health_consequence' column\n",
    "mental_health_consequence_unique = workplace_mental_health_data['mental_health_consequence'].unique()\n",
    "\n",
    "# Calculate the counts for each unique answer in the 'mental_health_consequence' column\n",
    "mental_health_consequence_counts = workplace_mental_health_data['mental_health_consequence'].value_counts()\n",
    "\n",
    "# Calculate the percentage distribution for each unique answer in the 'mental_health_consequence' column\n",
    "mental_health_consequence_percentage = workplace_mental_health_data['mental_health_consequence'].value_counts(normalize=True) * 100\n",
    "\n",
    "# Print unique answers, counts, and percentages\n",
    "print(mental_health_consequence_unique)\n",
    "print(mental_health_consequence_counts)\n",
    "print(mental_health_consequence_percentage)"
   ]
  },
  {
   "cell_type": "code",
   "execution_count": 38,
   "metadata": {},
   "outputs": [
    {
     "name": "stdout",
     "output_type": "stream",
     "text": [
      "  mental_health_consequence  Count  Percentage\n",
      "0                        No    490   38.919778\n",
      "1                     Maybe    477   37.887212\n",
      "2                       Yes    292   23.193010\n"
     ]
    }
   ],
   "source": [
    "# Create a DataFrame to store the data\n",
    "mental_health_consequence_table = pd.DataFrame({\n",
    "    'mental_health_consequence': mental_health_consequence_counts.index,\n",
    "    'Count': mental_health_consequence_counts.values,\n",
    "    'Percentage': mental_health_consequence_percentage.values\n",
    "})\n",
    "\n",
    "# Display the resulting table\n",
    "print(mental_health_consequence_table)"
   ]
  },
  {
   "cell_type": "code",
   "execution_count": 39,
   "metadata": {},
   "outputs": [
    {
     "name": "stdout",
     "output_type": "stream",
     "text": [
      "['No' 'Yes' 'Maybe']\n",
      "No       925\n",
      "Maybe    273\n",
      "Yes       61\n",
      "Name: phys_health_consequence, dtype: int64\n",
      "No       73.471009\n",
      "Maybe    21.683876\n",
      "Yes       4.845115\n",
      "Name: phys_health_consequence, dtype: float64\n"
     ]
    }
   ],
   "source": [
    "# Get the unique answers in the 'phys_health_consequence' column\n",
    "phys_health_consequence_unique = workplace_mental_health_data['phys_health_consequence'].unique()\n",
    "\n",
    "# Calculate the counts for each unique answer in the 'phys_health_consequence' column\n",
    "phys_health_consequence_counts = workplace_mental_health_data['phys_health_consequence'].value_counts()\n",
    "\n",
    "# Calculate the percentage distribution for each unique answer in the 'phys_health_consequence' column\n",
    "phys_health_consequence_percentage = workplace_mental_health_data['phys_health_consequence'].value_counts(normalize=True) * 100\n",
    "\n",
    "# Print unique answers, counts, and percentages\n",
    "print(phys_health_consequence_unique)\n",
    "print(phys_health_consequence_counts)\n",
    "print(phys_health_consequence_percentage)"
   ]
  },
  {
   "cell_type": "code",
   "execution_count": 40,
   "metadata": {},
   "outputs": [
    {
     "name": "stdout",
     "output_type": "stream",
     "text": [
      "  phys_health_consequence  Count  Percentage\n",
      "0                      No    925   73.471009\n",
      "1                   Maybe    273   21.683876\n",
      "2                     Yes     61    4.845115\n"
     ]
    }
   ],
   "source": [
    "# Create a DataFrame to store the data\n",
    "phys_health_consequence_table = pd.DataFrame({\n",
    "    'phys_health_consequence': phys_health_consequence_counts.index,\n",
    "    'Count': phys_health_consequence_counts.values,\n",
    "    'Percentage': phys_health_consequence_percentage.values\n",
    "})\n",
    "\n",
    "# Display the resulting table\n",
    "print(phys_health_consequence_table)"
   ]
  },
  {
   "cell_type": "code",
   "execution_count": 41,
   "metadata": {},
   "outputs": [
    {
     "name": "stdout",
     "output_type": "stream",
     "text": [
      "['Some of them' 'No' 'Yes']\n",
      "Some of them    774\n",
      "No              260\n",
      "Yes             225\n",
      "Name: coworkers, dtype: int64\n",
      "Some of them    61.477363\n",
      "No              20.651311\n",
      "Yes             17.871326\n",
      "Name: coworkers, dtype: float64\n"
     ]
    }
   ],
   "source": [
    "# Get the unique answers in the 'coworkers' column\n",
    "coworkers_unique = workplace_mental_health_data['coworkers'].unique()\n",
    "\n",
    "# Calculate the counts for each unique answer in the 'coworkers' column\n",
    "coworkers_counts = workplace_mental_health_data['coworkers'].value_counts()\n",
    "\n",
    "# Calculate the percentage distribution for each unique answer in the 'coworkers' column\n",
    "coworkers_percentage = workplace_mental_health_data['coworkers'].value_counts(normalize=True) * 100\n",
    "\n",
    "# Print unique answers, counts, and percentages\n",
    "print(coworkers_unique)\n",
    "print(coworkers_counts)\n",
    "print(coworkers_percentage)"
   ]
  },
  {
   "cell_type": "code",
   "execution_count": 42,
   "metadata": {},
   "outputs": [
    {
     "name": "stdout",
     "output_type": "stream",
     "text": [
      "      coworkers  Count  Percentage\n",
      "0  Some of them    774   61.477363\n",
      "1            No    260   20.651311\n",
      "2           Yes    225   17.871326\n"
     ]
    }
   ],
   "source": [
    "# Create a DataFrame to store the data\n",
    "coworkers_table = pd.DataFrame({\n",
    "    'coworkers': coworkers_counts.index,\n",
    "    'Count': coworkers_counts.values,\n",
    "    'Percentage': coworkers_percentage.values\n",
    "})\n",
    "\n",
    "# Display the resulting table\n",
    "print(coworkers_table)"
   ]
  },
  {
   "cell_type": "code",
   "execution_count": 43,
   "metadata": {},
   "outputs": [
    {
     "name": "stdout",
     "output_type": "stream",
     "text": [
      "['Yes' 'No' 'Some of them']\n",
      "Yes             516\n",
      "No              393\n",
      "Some of them    350\n",
      "Name: supervisor, dtype: int64\n",
      "Yes             40.984909\n",
      "No              31.215250\n",
      "Some of them    27.799841\n",
      "Name: supervisor, dtype: float64\n"
     ]
    }
   ],
   "source": [
    "# Get the unique answers in the 'supervisor' column\n",
    "supervisor_unique = workplace_mental_health_data['supervisor'].unique()\n",
    "\n",
    "# Calculate the counts for each unique answer in the 'supervisor' column\n",
    "supervisor_counts = workplace_mental_health_data['supervisor'].value_counts()\n",
    "\n",
    "# Calculate the percentage distribution for each unique answer in the 'supervisor' column\n",
    "supervisor_percentage = workplace_mental_health_data['supervisor'].value_counts(normalize=True) * 100\n",
    "\n",
    "# Print unique answers, counts, and percentages\n",
    "print(supervisor_unique)\n",
    "print(supervisor_counts)\n",
    "print(supervisor_percentage)"
   ]
  },
  {
   "cell_type": "code",
   "execution_count": 44,
   "metadata": {},
   "outputs": [
    {
     "name": "stdout",
     "output_type": "stream",
     "text": [
      "     supervisor  Count  Percentage\n",
      "0           Yes    516   40.984909\n",
      "1            No    393   31.215250\n",
      "2  Some of them    350   27.799841\n"
     ]
    }
   ],
   "source": [
    "# Create a DataFrame to store the data\n",
    "supervisor_table = pd.DataFrame({\n",
    "    'supervisor': supervisor_counts.index,\n",
    "    'Count': supervisor_counts.values,\n",
    "    'Percentage': supervisor_percentage.values\n",
    "})\n",
    "\n",
    "# Display the resulting table\n",
    "print(supervisor_table)"
   ]
  },
  {
   "cell_type": "code",
   "execution_count": 45,
   "metadata": {},
   "outputs": [
    {
     "name": "stdout",
     "output_type": "stream",
     "text": [
      "['No' 'Yes' 'Maybe']\n",
      "No       1008\n",
      "Maybe     207\n",
      "Yes        44\n",
      "Name: mental_health_interview, dtype: int64\n",
      "No       80.063542\n",
      "Maybe    16.441620\n",
      "Yes       3.494837\n",
      "Name: mental_health_interview, dtype: float64\n"
     ]
    }
   ],
   "source": [
    "# Get the unique answers in the 'mental_health_interview' column\n",
    "mental_health_interview_unique = workplace_mental_health_data['mental_health_interview'].unique()\n",
    "\n",
    "# Calculate the counts for each unique answer in the 'mental_health_interview' column\n",
    "mental_health_interview_counts = workplace_mental_health_data['mental_health_interview'].value_counts()\n",
    "\n",
    "# Calculate the percentage distribution for each unique answer in the 'mental_health_interview' column\n",
    "mental_health_interview_percentage = workplace_mental_health_data['mental_health_interview'].value_counts(normalize=True) * 100\n",
    "\n",
    "# Print unique answers, counts, and percentages\n",
    "print(mental_health_interview_unique)\n",
    "print(mental_health_interview_counts)\n",
    "print(mental_health_interview_percentage)\n"
   ]
  },
  {
   "cell_type": "code",
   "execution_count": 46,
   "metadata": {},
   "outputs": [
    {
     "name": "stdout",
     "output_type": "stream",
     "text": [
      "  mental_health_interview  Count  Percentage\n",
      "0                      No   1008   80.063542\n",
      "1                   Maybe    207   16.441620\n",
      "2                     Yes     44    3.494837\n"
     ]
    }
   ],
   "source": [
    "# Create a DataFrame to store the data\n",
    "mental_health_interview_table = pd.DataFrame({\n",
    "    'mental_health_interview': mental_health_interview_counts.index,\n",
    "    'Count': mental_health_interview_counts.values,\n",
    "    'Percentage': mental_health_interview_percentage.values\n",
    "})\n",
    "\n",
    "# Display the resulting table\n",
    "print(mental_health_interview_table)"
   ]
  },
  {
   "cell_type": "code",
   "execution_count": 47,
   "metadata": {},
   "outputs": [
    {
     "name": "stdout",
     "output_type": "stream",
     "text": [
      "['Maybe' 'No' 'Yes']\n",
      "Maybe    557\n",
      "No       500\n",
      "Yes      202\n",
      "Name: phys_health_interview, dtype: int64\n",
      "Maybe    44.241461\n",
      "No       39.714059\n",
      "Yes      16.044480\n",
      "Name: phys_health_interview, dtype: float64\n"
     ]
    }
   ],
   "source": [
    "# Get the unique answers in the 'phys_health_interview' column\n",
    "phys_health_interview_unique = workplace_mental_health_data['phys_health_interview'].unique()\n",
    "\n",
    "# Calculate the counts for each unique answer in the 'phys_health_interview' column\n",
    "phys_health_interview_counts = workplace_mental_health_data['phys_health_interview'].value_counts()\n",
    "\n",
    "# Calculate the percentage distribution for each unique answer in the 'phys_health_interview' column\n",
    "phys_health_interview_percentage = workplace_mental_health_data['phys_health_interview'].value_counts(normalize=True) * 100\n",
    "\n",
    "# Print unique answers, counts, and percentages\n",
    "print(phys_health_interview_unique)\n",
    "print(phys_health_interview_counts)\n",
    "print(phys_health_interview_percentage)"
   ]
  },
  {
   "cell_type": "code",
   "execution_count": 48,
   "metadata": {},
   "outputs": [
    {
     "name": "stdout",
     "output_type": "stream",
     "text": [
      "  phys_health_interview  Count  Percentage\n",
      "0                 Maybe    557   44.241461\n",
      "1                    No    500   39.714059\n",
      "2                   Yes    202   16.044480\n"
     ]
    }
   ],
   "source": [
    "# Create a DataFrame to store the data\n",
    "phys_health_interview_table = pd.DataFrame({\n",
    "    'phys_health_interview': phys_health_interview_counts.index,\n",
    "    'Count': phys_health_interview_counts.values,\n",
    "    'Percentage': phys_health_interview_percentage.values\n",
    "})\n",
    "\n",
    "# Display the resulting table\n",
    "print(phys_health_interview_table)"
   ]
  },
  {
   "cell_type": "code",
   "execution_count": 49,
   "metadata": {},
   "outputs": [
    {
     "name": "stdout",
     "output_type": "stream",
     "text": [
      "['Yes' \"Don't know\" 'No']\n",
      "Don't know    576\n",
      "Yes           343\n",
      "No            340\n",
      "Name: mental_vs_physical, dtype: int64\n",
      "Don't know    45.750596\n",
      "Yes           27.243844\n",
      "No            27.005560\n",
      "Name: mental_vs_physical, dtype: float64\n"
     ]
    }
   ],
   "source": [
    "# Get the unique answers in the 'mental_vs_physical' column\n",
    "mental_vs_physical_unique = workplace_mental_health_data['mental_vs_physical'].unique()\n",
    "\n",
    "# Calculate the counts for each unique answer in the 'mental_vs_physical' column\n",
    "mental_vs_physical_counts = workplace_mental_health_data['mental_vs_physical'].value_counts()\n",
    "\n",
    "# Calculate the percentage distribution for each unique answer in the 'mental_vs_physical' column\n",
    "mental_vs_physical_percentage = workplace_mental_health_data['mental_vs_physical'].value_counts(normalize=True) * 100\n",
    "\n",
    "# Print unique answers, counts, and percentages\n",
    "print(mental_vs_physical_unique)\n",
    "print(mental_vs_physical_counts)\n",
    "print(mental_vs_physical_percentage)"
   ]
  },
  {
   "cell_type": "code",
   "execution_count": 50,
   "metadata": {},
   "outputs": [
    {
     "name": "stdout",
     "output_type": "stream",
     "text": [
      "  mental_vs_physical  Count  Percentage\n",
      "0         Don't know    576   45.750596\n",
      "1                Yes    343   27.243844\n",
      "2                 No    340   27.005560\n"
     ]
    }
   ],
   "source": [
    "# Create a DataFrame to store the data\n",
    "mental_vs_physical_table = pd.DataFrame({\n",
    "    'mental_vs_physical': mental_vs_physical_counts.index,\n",
    "    'Count': mental_vs_physical_counts.values,\n",
    "    'Percentage': mental_vs_physical_percentage.values\n",
    "})\n",
    "\n",
    "# Display the resulting table\n",
    "print(mental_vs_physical_table)"
   ]
  },
  {
   "cell_type": "code",
   "execution_count": 51,
   "metadata": {},
   "outputs": [
    {
     "name": "stdout",
     "output_type": "stream",
     "text": [
      "['No' 'Yes']\n",
      "No     1075\n",
      "Yes     184\n",
      "Name: obs_consequence, dtype: int64\n",
      "No     85.385226\n",
      "Yes    14.614774\n",
      "Name: obs_consequence, dtype: float64\n"
     ]
    }
   ],
   "source": [
    "# Get the unique answers in the 'obs_consequence' column\n",
    "obs_consequence_unique = workplace_mental_health_data['obs_consequence'].unique()\n",
    "\n",
    "# Calculate the counts for each unique answer in the 'obs_consequence' column\n",
    "obs_consequence_counts = workplace_mental_health_data['obs_consequence'].value_counts()\n",
    "\n",
    "# Calculate the percentage distribution for each unique answer in the 'obs_consequence' column\n",
    "obs_consequence_percentage = workplace_mental_health_data['obs_consequence'].value_counts(normalize=True) * 100\n",
    "\n",
    "# Print unique answers, counts, and percentages\n",
    "print(obs_consequence_unique)\n",
    "print(obs_consequence_counts)\n",
    "print(obs_consequence_percentage)"
   ]
  },
  {
   "cell_type": "code",
   "execution_count": 52,
   "metadata": {},
   "outputs": [
    {
     "name": "stdout",
     "output_type": "stream",
     "text": [
      "  obs_consequence  Count  Percentage\n",
      "0              No   1075   85.385226\n",
      "1             Yes    184   14.614774\n"
     ]
    }
   ],
   "source": [
    "# Create a DataFrame to store the data\n",
    "obs_consequence_table = pd.DataFrame({\n",
    "    'obs_consequence': obs_consequence_counts.index,\n",
    "    'Count': obs_consequence_counts.values,\n",
    "    'Percentage': obs_consequence_percentage.values\n",
    "})\n",
    "\n",
    "# Display the resulting table\n",
    "print(obs_consequence_table)"
   ]
  },
  {
   "cell_type": "code",
   "execution_count": 53,
   "metadata": {},
   "outputs": [
    {
     "name": "stdout",
     "output_type": "stream",
     "text": [
      "            Total Count   Mean Age\n",
      "Gender                            \n",
      "Female              252  30.896825\n",
      "Male                990  32.404040\n",
      "Non-binary            5  28.000000\n",
      "n/a                   4  30.500000\n"
     ]
    }
   ],
   "source": [
    "summary_stats = workplace_mental_health_data.groupby('Gender').agg({'Age': ['count', 'mean']})\n",
    "\n",
    "# Rename columns for clarity\n",
    "summary_stats.columns = ['Total Count', 'Mean Age']\n",
    "\n",
    "# Print the summary statistics table\n",
    "print(summary_stats)"
   ]
  },
  {
   "cell_type": "code",
   "execution_count": null,
   "metadata": {},
   "outputs": [],
   "source": []
  },
  {
   "cell_type": "code",
   "execution_count": null,
   "metadata": {},
   "outputs": [],
   "source": []
  },
  {
   "cell_type": "code",
   "execution_count": null,
   "metadata": {},
   "outputs": [],
   "source": []
  },
  {
   "cell_type": "code",
   "execution_count": null,
   "metadata": {},
   "outputs": [],
   "source": []
  },
  {
   "cell_type": "code",
   "execution_count": null,
   "metadata": {},
   "outputs": [],
   "source": [
    "\n"
   ]
  },
  {
   "cell_type": "code",
   "execution_count": null,
   "metadata": {},
   "outputs": [],
   "source": []
  },
  {
   "cell_type": "code",
   "execution_count": null,
   "metadata": {},
   "outputs": [],
   "source": []
  }
 ],
 "metadata": {
  "kernelspec": {
   "display_name": "Python 3",
   "language": "python",
   "name": "python3"
  },
  "language_info": {
   "codemirror_mode": {
    "name": "ipython",
    "version": 3
   },
   "file_extension": ".py",
   "mimetype": "text/x-python",
   "name": "python",
   "nbconvert_exporter": "python",
   "pygments_lexer": "ipython3",
   "version": "3.11.3"
  },
  "vscode": {
   "interpreter": {
    "hash": "29056445512b2b2c7347c484b4b8e126ae64f8d26b6506f41dfc6784227ca601"
   }
  }
 },
 "nbformat": 4,
 "nbformat_minor": 2
}
